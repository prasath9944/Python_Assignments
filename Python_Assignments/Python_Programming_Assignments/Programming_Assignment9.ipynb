{
 "cells": [
  {
   "cell_type": "markdown",
   "id": "1c02305b",
   "metadata": {},
   "source": [
    "## 1. Write a Python program to check if the given number is a Disarium Number?"
   ]
  },
  {
   "cell_type": "code",
   "execution_count": 1,
   "id": "d32cf180",
   "metadata": {},
   "outputs": [
    {
     "name": "stdout",
     "output_type": "stream",
     "text": [
      "175 is a Disarium number\n"
     ]
    }
   ],
   "source": [
    "def is_disarium(number):\n",
    "    # Convert the number to a string for easy iteration\n",
    "    num_str = str(number)\n",
    "    # Get the length of the number\n",
    "    length = len(num_str)\n",
    "    # Calculate the sum of the digits raised to their respective positions\n",
    "    digit_sum = sum(int(num_str[i]) ** (i + 1) for i in range(length))\n",
    "    # Check if the sum is equal to the original number\n",
    "    return digit_sum == number\n",
    "\n",
    "# Example usage:\n",
    "num = 175\n",
    "if is_disarium(num):\n",
    "    print(num, \"is a Disarium number\")\n",
    "else:\n",
    "    print(num, \"is not a Disarium number\")\n"
   ]
  },
  {
   "cell_type": "markdown",
   "id": "1fcc369a",
   "metadata": {},
   "source": [
    "## 2. Write a Python program to print all disarium numbers between 1 to 100?"
   ]
  },
  {
   "cell_type": "code",
   "execution_count": 2,
   "id": "bb61d8f0",
   "metadata": {},
   "outputs": [
    {
     "name": "stdout",
     "output_type": "stream",
     "text": [
      "Disarium numbers between 1 and 100:\n",
      "1\n",
      "2\n",
      "3\n",
      "4\n",
      "5\n",
      "6\n",
      "7\n",
      "8\n",
      "9\n",
      "89\n"
     ]
    }
   ],
   "source": [
    "def is_disarium(number):\n",
    "    num_str = str(number)\n",
    "    length = len(num_str)\n",
    "    digit_sum = sum(int(num_str[i]) ** (i + 1) for i in range(length))\n",
    "    return digit_sum == number\n",
    "\n",
    "# Find and print all Disarium numbers between 1 and 100\n",
    "print(\"Disarium numbers between 1 and 100:\")\n",
    "for num in range(1, 101):\n",
    "    if is_disarium(num):\n",
    "        print(num)\n"
   ]
  },
  {
   "cell_type": "markdown",
   "id": "d5e03b0e",
   "metadata": {},
   "source": [
    "## 3. Write a Python program to check if the given number is Happy Number?"
   ]
  },
  {
   "cell_type": "code",
   "execution_count": 3,
   "id": "126f6601",
   "metadata": {},
   "outputs": [
    {
     "name": "stdout",
     "output_type": "stream",
     "text": [
      "19 is a Happy number\n"
     ]
    }
   ],
   "source": [
    "def is_happy_number(number):\n",
    "    seen = set()  # Set to store previously seen numbers during the calculation\n",
    "    while number != 1:\n",
    "        number = sum(int(digit) ** 2 for digit in str(number))\n",
    "        if number in seen:\n",
    "            return False  # If a cycle is detected, the number is not happy\n",
    "        seen.add(number)\n",
    "    return True\n",
    "\n",
    "# Example usage:\n",
    "num = 19\n",
    "if is_happy_number(num):\n",
    "    print(num, \"is a Happy number\")\n",
    "else:\n",
    "    print(num, \"is not a Happy number\")\n"
   ]
  },
  {
   "cell_type": "markdown",
   "id": "5d44f15a",
   "metadata": {},
   "source": [
    "## 4. Write a Python program to print all happy numbers between 1 and 100?"
   ]
  },
  {
   "cell_type": "code",
   "execution_count": 4,
   "id": "72c3d57b",
   "metadata": {},
   "outputs": [
    {
     "name": "stdout",
     "output_type": "stream",
     "text": [
      "Happy numbers between 1 and 100:\n",
      "1\n",
      "7\n",
      "10\n",
      "13\n",
      "19\n",
      "23\n",
      "28\n",
      "31\n",
      "32\n",
      "44\n",
      "49\n",
      "68\n",
      "70\n",
      "79\n",
      "82\n",
      "86\n",
      "91\n",
      "94\n",
      "97\n",
      "100\n"
     ]
    }
   ],
   "source": [
    "def is_happy_number(number):\n",
    "    seen = set()\n",
    "    while number != 1:\n",
    "        number = sum(int(digit) ** 2 for digit in str(number))\n",
    "        if number in seen:\n",
    "            return False\n",
    "        seen.add(number)\n",
    "    return True\n",
    "\n",
    "# Find and print all Happy numbers between 1 and 100\n",
    "print(\"Happy numbers between 1 and 100:\")\n",
    "for num in range(1, 101):\n",
    "    if is_happy_number(num):\n",
    "        print(num)\n"
   ]
  },
  {
   "cell_type": "markdown",
   "id": "76621ca9",
   "metadata": {},
   "source": [
    "## 5. Write a Python program to determine whether the given number is a Harshad Number?"
   ]
  },
  {
   "cell_type": "code",
   "execution_count": 5,
   "id": "53521131",
   "metadata": {},
   "outputs": [
    {
     "name": "stdout",
     "output_type": "stream",
     "text": [
      "18 is a Harshad number\n"
     ]
    }
   ],
   "source": [
    "def is_harshad_number(number):\n",
    "    # Calculate the sum of the digits\n",
    "    digit_sum = sum(int(digit) for digit in str(number))\n",
    "    # Check if the number is divisible by the sum of its digits\n",
    "    return number % digit_sum == 0\n",
    "\n",
    "# Example usage:\n",
    "num = 18\n",
    "if is_harshad_number(num):\n",
    "    print(num, \"is a Harshad number\")\n",
    "else:\n",
    "    print(num, \"is not a Harshad number\")\n"
   ]
  },
  {
   "cell_type": "markdown",
   "id": "d1b1f473",
   "metadata": {},
   "source": [
    "## 6. Write a Python program to print all pronic numbers between 1 and 100?"
   ]
  },
  {
   "cell_type": "code",
   "execution_count": 6,
   "id": "52ad5b22",
   "metadata": {},
   "outputs": [
    {
     "name": "stdout",
     "output_type": "stream",
     "text": [
      "Pronic numbers between 1 and 100:\n",
      "2\n",
      "6\n",
      "12\n",
      "20\n",
      "30\n",
      "42\n",
      "56\n",
      "72\n",
      "90\n"
     ]
    }
   ],
   "source": [
    "def is_pronic_number(number):\n",
    "    # Check if the number is a product of two consecutive integers\n",
    "    for i in range(1, int(number ** 0.5) + 1):\n",
    "        if i * (i + 1) == number:\n",
    "            return True\n",
    "    return False\n",
    "\n",
    "# Find and print all pronic numbers between 1 and 100\n",
    "print(\"Pronic numbers between 1 and 100:\")\n",
    "for num in range(1, 101):\n",
    "    if is_pronic_number(num):\n",
    "        print(num)\n"
   ]
  }
 ],
 "metadata": {
  "kernelspec": {
   "display_name": "Python 3 (ipykernel)",
   "language": "python",
   "name": "python3"
  },
  "language_info": {
   "codemirror_mode": {
    "name": "ipython",
    "version": 3
   },
   "file_extension": ".py",
   "mimetype": "text/x-python",
   "name": "python",
   "nbconvert_exporter": "python",
   "pygments_lexer": "ipython3",
   "version": "3.10.9"
  }
 },
 "nbformat": 4,
 "nbformat_minor": 5
}
