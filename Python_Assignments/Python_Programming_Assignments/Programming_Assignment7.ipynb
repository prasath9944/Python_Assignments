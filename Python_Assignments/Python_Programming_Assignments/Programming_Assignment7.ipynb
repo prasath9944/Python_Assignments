{
 "cells": [
  {
   "cell_type": "markdown",
   "id": "8b81632f",
   "metadata": {},
   "source": [
    "## 1. Write a Python Program to find sum of array?"
   ]
  },
  {
   "cell_type": "code",
   "execution_count": 1,
   "id": "ddf83660",
   "metadata": {},
   "outputs": [
    {
     "name": "stdout",
     "output_type": "stream",
     "text": [
      "Sum of the array: 15\n"
     ]
    }
   ],
   "source": [
    "def array_sum(arr):\n",
    "    sum = 0\n",
    "    for num in arr:\n",
    "        sum += num\n",
    "    return sum\n",
    "\n",
    "# Example usage:\n",
    "array = [1, 2, 3, 4, 5]\n",
    "result = array_sum(array)\n",
    "print(\"Sum of the array:\", result)\n"
   ]
  },
  {
   "cell_type": "markdown",
   "id": "2bd3d3d2",
   "metadata": {},
   "source": [
    "## 2. Write a Python Program to find largest element in an array?"
   ]
  },
  {
   "cell_type": "code",
   "execution_count": 2,
   "id": "5130d525",
   "metadata": {},
   "outputs": [
    {
     "name": "stdout",
     "output_type": "stream",
     "text": [
      "Largest element in the array: 67\n"
     ]
    }
   ],
   "source": [
    "def find_largest_element(arr):\n",
    "    largest = arr[0]\n",
    "    for num in arr:\n",
    "        if num > largest:\n",
    "            largest = num\n",
    "    return largest\n",
    "\n",
    "# Example usage:\n",
    "array = [12, 45, 67, 23, 9, 55]\n",
    "result = find_largest_element(array)\n",
    "print(\"Largest element in the array:\", result)\n"
   ]
  },
  {
   "cell_type": "markdown",
   "id": "d3fc38ec",
   "metadata": {},
   "source": [
    "## 3. Write a Python Program for array rotation?"
   ]
  },
  {
   "cell_type": "code",
   "execution_count": 3,
   "id": "f09b5e5e",
   "metadata": {},
   "outputs": [
    {
     "name": "stdout",
     "output_type": "stream",
     "text": [
      "Rotated array: [3, 4, 5, 1, 2]\n"
     ]
    }
   ],
   "source": [
    "def rotate_array(arr, k):\n",
    "    n = len(arr)\n",
    "    k = k % n  # to handle cases where k is greater than the length of the array\n",
    "    rotated_arr = arr[k:] + arr[:k]\n",
    "    return rotated_arr\n",
    "\n",
    "# Example usage:\n",
    "array = [1, 2, 3, 4, 5]\n",
    "rotation_count = 2\n",
    "result = rotate_array(array, rotation_count)\n",
    "print(\"Rotated array:\", result)\n"
   ]
  },
  {
   "cell_type": "markdown",
   "id": "d0753e3f",
   "metadata": {},
   "source": [
    "## 4. Write a Python Program to Split the array and add the first part to the end?"
   ]
  },
  {
   "cell_type": "code",
   "execution_count": 4,
   "id": "c9185777",
   "metadata": {},
   "outputs": [
    {
     "name": "stdout",
     "output_type": "stream",
     "text": [
      "Modified array: [3, 4, 5, 1, 2]\n"
     ]
    }
   ],
   "source": [
    "def split_and_add(arr, k):\n",
    "    n = len(arr)\n",
    "    split_index = k % n  # to handle cases where k is greater than the length of the array\n",
    "    split_array = arr[:split_index]\n",
    "    remaining_array = arr[split_index:]\n",
    "    rotated_array = remaining_array + split_array\n",
    "    return rotated_array\n",
    "\n",
    "# Example usage:\n",
    "array = [1, 2, 3, 4, 5]\n",
    "split_index = 2\n",
    "result = split_and_add(array, split_index)\n",
    "print(\"Modified array:\", result)\n"
   ]
  },
  {
   "cell_type": "markdown",
   "id": "b760f574",
   "metadata": {},
   "source": [
    "## 5. Write a Python Program to check if given array is Monotonic?"
   ]
  },
  {
   "cell_type": "code",
   "execution_count": 5,
   "id": "8bb96f48",
   "metadata": {},
   "outputs": [
    {
     "name": "stdout",
     "output_type": "stream",
     "text": [
      "The array is monotonic.\n"
     ]
    }
   ],
   "source": [
    "def is_monotonic(arr):\n",
    "    increasing = decreasing = True\n",
    "\n",
    "    for i in range(1, len(arr)):\n",
    "        if arr[i] < arr[i - 1]:\n",
    "            increasing = False\n",
    "        if arr[i] > arr[i - 1]:\n",
    "            decreasing = False\n",
    "\n",
    "    return increasing or decreasing\n",
    "\n",
    "# Example usage:\n",
    "array = [1, 2, 3, 4, 5]\n",
    "result = is_monotonic(array)\n",
    "if result:\n",
    "    print(\"The array is monotonic.\")\n",
    "else:\n",
    "    print(\"The array is not monotonic.\")\n"
   ]
  }
 ],
 "metadata": {
  "kernelspec": {
   "display_name": "Python 3 (ipykernel)",
   "language": "python",
   "name": "python3"
  },
  "language_info": {
   "codemirror_mode": {
    "name": "ipython",
    "version": 3
   },
   "file_extension": ".py",
   "mimetype": "text/x-python",
   "name": "python",
   "nbconvert_exporter": "python",
   "pygments_lexer": "ipython3",
   "version": "3.10.9"
  }
 },
 "nbformat": 4,
 "nbformat_minor": 5
}
