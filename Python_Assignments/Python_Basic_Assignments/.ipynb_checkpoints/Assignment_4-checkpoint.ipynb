{
 "cells": [
  {
   "cell_type": "markdown",
   "id": "b41cc5d2",
   "metadata": {},
   "source": [
    "## 1. What exactly is []?"
   ]
  },
  {
   "cell_type": "markdown",
   "id": "995d277b",
   "metadata": {},
   "source": [
    "In Python, [] is used to define an empty list. A list is a built-in data structure in Python that allows you to store a collection of items. A list can contain any combination of data types, such as integers, floats, strings, or even other lists.\n",
    "\n",
    "Here's an example of creating an empty list using []:"
   ]
  },
  {
   "cell_type": "code",
   "execution_count": 1,
   "id": "110c1ad6",
   "metadata": {},
   "outputs": [],
   "source": [
    "my_list = []\n"
   ]
  },
  {
   "cell_type": "markdown",
   "id": "b3b4bac5",
   "metadata": {},
   "source": [
    "You can also initialize a list with items inside the []:"
   ]
  },
  {
   "cell_type": "code",
   "execution_count": 2,
   "id": "6cc14eaa",
   "metadata": {},
   "outputs": [],
   "source": [
    "my_list = [1, 2, 3]"
   ]
  },
  {
   "cell_type": "markdown",
   "id": "2c011cbe",
   "metadata": {},
   "source": [
    "In addition to creating an empty list, [] can also be used to access items in a list by their index. For example, my_list[0] would access the first item in the list."
   ]
  },
  {
   "cell_type": "markdown",
   "id": "f6f6dece",
   "metadata": {},
   "source": [
    "## 2. In a list of values stored in a variable called spam, how would you assign the value &#39;hello&#39; as the third value? (Assume [2, 4, 6, 8, 10] are in spam.)"
   ]
  },
  {
   "cell_type": "markdown",
   "id": "5691db1f",
   "metadata": {},
   "source": [
    "To assign the value 'hello' as the third value in the list stored in the variable spam, you can use indexing and assignment like this:"
   ]
  },
  {
   "cell_type": "code",
   "execution_count": 3,
   "id": "d795998c",
   "metadata": {},
   "outputs": [],
   "source": [
    "spam = [2, 4, 6, 8, 10]   # original list\n",
    "spam[2] = 'hello'         # assign 'hello' as the third value\n"
   ]
  },
  {
   "cell_type": "markdown",
   "id": "6bbfa062",
   "metadata": {},
   "source": [
    "In Python, list indices start at 0, so the third value in the list has an index of 2. By assigning 'hello' to spam[2], we replace the value at that index with 'hello'.\n",
    "\n",
    "After executing this code, the value of spam will be:"
   ]
  },
  {
   "cell_type": "code",
   "execution_count": 4,
   "id": "2a23ff01",
   "metadata": {},
   "outputs": [
    {
     "data": {
      "text/plain": [
       "[2, 4, 'hello', 8, 10]"
      ]
     },
     "execution_count": 4,
     "metadata": {},
     "output_type": "execute_result"
    }
   ],
   "source": [
    "[2, 4, 'hello', 8, 10]\n"
   ]
  },
  {
   "cell_type": "markdown",
   "id": "c752684f",
   "metadata": {},
   "source": [
    "## 3. What is the value of spam[int(int(&#39;3&#39; * 2) / 11)]?"
   ]
  },
  {
   "cell_type": "markdown",
   "id": "06087307",
   "metadata": {},
   "source": [
    "The expression int('3' * 2) evaluates to the string '33', and then the expression int('33') / 11 evaluates to the float 3.0 because integer division in Python 3 returns a float result.\n",
    "\n",
    "So the expression spam[int(int('3' * 2) / 11)] is equivalent to spam[int(3.0)], which is equivalent to spam[3].\n",
    "\n",
    "Assuming that spam is a list, spam[3] refers to the fourth element of the list because Python lists are zero-indexed. Therefore, the value of spam[int(int('3' * 2) / 11)] is the value of the fourth element of the list spam.\n",
    "\n",
    "Note that the actual value of the fourth element of spam depends on how spam was defined or initialized."
   ]
  },
  {
   "cell_type": "markdown",
   "id": "0db2f795",
   "metadata": {},
   "source": [
    "## 4. What is the value of spam[-1]?"
   ]
  },
  {
   "cell_type": "markdown",
   "id": "e9b79b5a",
   "metadata": {},
   "source": [
    "In Python, negative indices are used to access elements from the end of a list. The index -1 refers to the last element in the list, -2 refers to the second to last element, and so on.\n",
    "\n",
    "So, the expression spam[-1] gives us the value of the last element in the list spam. This is true regardless of the length of the list.\n",
    "\n",
    "For example, if spam is a list with values [1, 2, 3, 4], then spam[-1] will be equal to 4. If spam is a list with values ['a', 'b', 'c'], then spam[-1] will be equal to 'c'.\n",
    "\n",
    "Therefore, the value of spam[-1] depends on the contents of the list spam."
   ]
  },
  {
   "cell_type": "markdown",
   "id": "8df7612f",
   "metadata": {},
   "source": [
    "## 5. What is the value of spam[:2]? Let&#39;s pretend bacon has the list [3.14, &#39;cat,&#39; 11, &#39;cat,&#39; True] for the next three questions."
   ]
  },
  {
   "cell_type": "markdown",
   "id": "ca742a95",
   "metadata": {},
   "source": [
    "In Python, list slicing is used to extract a portion of a list by specifying a range of indices. The general syntax for list slicing is list[start:end:step], where start is the starting index (inclusive), end is the ending index (exclusive), and step is the step size between indices (default value is 1).\n",
    "\n",
    "In the case of spam[:2], we are slicing the list spam from the beginning (index 0) up to, but not including, index 2. This means that we are selecting the first two elements of the list.\n",
    "\n",
    "Therefore, the value of spam[:2] is a new list that contains the first two elements of the original list spam.\n"
   ]
  },
  {
   "cell_type": "markdown",
   "id": "a26368c0",
   "metadata": {},
   "source": [
    "## 6. What is the value of bacon.index(&#39;cat&#39;)?"
   ]
  },
  {
   "cell_type": "markdown",
   "id": "730ec60a",
   "metadata": {},
   "source": [
    "The index() method is used to find the index of the first occurrence of a value in a list. If the value is not present in the list, a ValueError is raised.\n",
    "\n",
    "In this case, the list bacon is [3.14, 'cat', 11, 'cat', True]. So, the expression bacon.index('cat') returns the index of the first occurrence of the string 'cat' in the list.\n",
    "\n",
    "Since the string 'cat' appears at index 1 and then again at index 3 of the list bacon, the value of bacon.index('cat') is 1.\n",
    "\n",
    "Therefore, the value of bacon.index('cat') is 1."
   ]
  },
  {
   "cell_type": "markdown",
   "id": "7b3a633e",
   "metadata": {},
   "source": [
    "## 7. How does bacon.append(99) change the look of the list value in bacon?"
   ]
  },
  {
   "cell_type": "markdown",
   "id": "3702d760",
   "metadata": {},
   "source": [
    "The append() method is used to add a single element to the end of a list.\n",
    "\n",
    "In this case, the list bacon is [3.14, 'cat', 11, 'cat', True]. When we call the method bacon.append(99), the value 99 is added as a new element to the end of the list.\n",
    "\n",
    "After the call to bacon.append(99), the list bacon will look like [3.14, 'cat', 11, 'cat', True, 99].\n",
    "\n",
    "So, the append() method modifies the list in place by adding a new element to the end of the list. In this case, it adds the integer value 99 to the end of the list bacon."
   ]
  },
  {
   "cell_type": "markdown",
   "id": "5092998b",
   "metadata": {},
   "source": [
    "## 8. How does bacon.remove(&#39;cat&#39;) change the look of the list in bacon?"
   ]
  },
  {
   "cell_type": "markdown",
   "id": "880cf77d",
   "metadata": {},
   "source": [
    "The remove() method is used to remove the first occurrence of a specified element from a list. If the element is not present in the list, a ValueError is raised.\n",
    "\n",
    "In this case, the list bacon is [3.14, 'cat', 11, 'cat', True]. When we call the method bacon.remove('cat'), the first occurrence of the string 'cat' is removed from the list.\n",
    "\n",
    "After the call to bacon.remove('cat'), the list bacon will look like [3.14, 11, 'cat', True]. Note that only the first occurrence of 'cat' is removed, so the second occurrence of 'cat' remains in the list.\n",
    "\n",
    "So, the remove() method modifies the list in place by removing the first occurrence of a specified element. In this case, it removes the first occurrence of the string 'cat' from the list bacon.\n",
    "\n",
    "\n",
    "\n",
    "\n"
   ]
  },
  {
   "cell_type": "markdown",
   "id": "318d75b4",
   "metadata": {},
   "source": [
    "## 9. What are the list concatenation and list replication operators?"
   ]
  },
  {
   "cell_type": "markdown",
   "id": "fae78253",
   "metadata": {},
   "source": [
    "In Python, the + operator is used for list concatenation, and the * operator is used for list replication.\n",
    "\n",
    "The + operator concatenates two lists by creating a new list that contains all the elements from both lists in the order they appear. For example:"
   ]
  },
  {
   "cell_type": "code",
   "execution_count": 5,
   "id": "5cd2b254",
   "metadata": {},
   "outputs": [
    {
     "name": "stdout",
     "output_type": "stream",
     "text": [
      "[1, 2, 3, 4, 5, 6]\n"
     ]
    }
   ],
   "source": [
    "a = [1, 2, 3]\n",
    "b = [4, 5, 6]\n",
    "c = a + b\n",
    "print(c)  # Output: [1, 2, 3, 4, 5, 6]\n"
   ]
  },
  {
   "cell_type": "markdown",
   "id": "6fee063c",
   "metadata": {},
   "source": [
    "The * operator replicates a list a specified number of times by creating a new list that contains the original list repeated the specified number of times. For example:"
   ]
  },
  {
   "cell_type": "code",
   "execution_count": 6,
   "id": "ec1e2ec7",
   "metadata": {},
   "outputs": [
    {
     "name": "stdout",
     "output_type": "stream",
     "text": [
      "[1, 2, 3, 1, 2, 3, 1, 2, 3]\n"
     ]
    }
   ],
   "source": [
    "a = [1, 2, 3]\n",
    "b = a * 3\n",
    "print(b)  # Output: [1, 2, 3, 1, 2, 3, 1, 2, 3]\n"
   ]
  },
  {
   "cell_type": "markdown",
   "id": "b9c8973c",
   "metadata": {},
   "source": [
    "Note that both operators create new lists and leave the original lists unchanged."
   ]
  },
  {
   "cell_type": "markdown",
   "id": "b833e986",
   "metadata": {},
   "source": [
    "## 10. What is difference between the list methods append() and insert()?"
   ]
  },
  {
   "cell_type": "markdown",
   "id": "1e4ff3f4",
   "metadata": {},
   "source": [
    "Both append() and insert() are list methods used to add elements to a list, but they differ in how they add elements to the list.\n",
    "\n",
    "The append() method is used to add an element to the end of a list. It modifies the list in place by adding the element to the end of the list. For example:"
   ]
  },
  {
   "cell_type": "code",
   "execution_count": 7,
   "id": "23614504",
   "metadata": {},
   "outputs": [
    {
     "name": "stdout",
     "output_type": "stream",
     "text": [
      "[1, 2, 3, 4]\n"
     ]
    }
   ],
   "source": [
    "a = [1, 2, 3]\n",
    "a.append(4)\n",
    "print(a)  # Output: [1, 2, 3, 4]\n"
   ]
  },
  {
   "cell_type": "markdown",
   "id": "bc59af01",
   "metadata": {},
   "source": [
    "The insert() method is used to add an element at a specific index in the list. It modifies the list in place by shifting the elements to the right of the specified index to make room for the new element. For example:"
   ]
  },
  {
   "cell_type": "code",
   "execution_count": 8,
   "id": "7a3c0559",
   "metadata": {},
   "outputs": [
    {
     "name": "stdout",
     "output_type": "stream",
     "text": [
      "[1, 4, 2, 3]\n"
     ]
    }
   ],
   "source": [
    "a = [1, 2, 3]\n",
    "a.insert(1, 4)\n",
    "print(a)  # Output: [1, 4, 2, 3]\n"
   ]
  },
  {
   "cell_type": "markdown",
   "id": "e7097fa3",
   "metadata": {},
   "source": [
    "Note that the first argument of insert() is the index at which to insert the element, and the second argument is the element to be inserted.\n",
    "\n",
    "So, the main difference between append() and insert() is that append() adds elements to the end of the list, while insert() adds elements at a specific index in the list.\n",
    "\n",
    "\n",
    "\n",
    "\n"
   ]
  },
  {
   "cell_type": "markdown",
   "id": "a6e01084",
   "metadata": {},
   "source": [
    "## 11. What are the two methods for removing items from a list?"
   ]
  },
  {
   "cell_type": "markdown",
   "id": "8805925a",
   "metadata": {},
   "source": [
    "There are two methods for removing items from a list in Python:\n",
    "\n",
    "The remove() method - This method is used to remove the first occurrence of a specified element from the list. If the element is not present in the list, a ValueError is raised. For example:"
   ]
  },
  {
   "cell_type": "code",
   "execution_count": 9,
   "id": "46174b7b",
   "metadata": {},
   "outputs": [
    {
     "name": "stdout",
     "output_type": "stream",
     "text": [
      "[1, 2, 4, 3]\n"
     ]
    }
   ],
   "source": [
    "a = [1, 2, 3, 4, 3]\n",
    "a.remove(3)\n",
    "print(a)  # Output: [1, 2, 4, 3]\n"
   ]
  },
  {
   "cell_type": "markdown",
   "id": "66521c38",
   "metadata": {},
   "source": [
    "The pop() method - This method is used to remove an element from a specific index in the list. It also returns the removed element. If the index is not specified, it removes and returns the last element in the list. For example:"
   ]
  },
  {
   "cell_type": "code",
   "execution_count": 10,
   "id": "fab02113",
   "metadata": {},
   "outputs": [
    {
     "name": "stdout",
     "output_type": "stream",
     "text": [
      "[1, 2, 4, 5]\n",
      "5\n",
      "[1, 2, 3, 4]\n"
     ]
    }
   ],
   "source": [
    "a = [1, 2, 3, 4, 5]\n",
    "a.pop(2)\n",
    "print(a)  # Output: [1, 2, 4, 5]\n",
    "\n",
    "b = [1, 2, 3, 4, 5]\n",
    "c = b.pop()\n",
    "print(c)  # Output: 5\n",
    "print(b)  # Output: [1, 2, 3, 4]\n"
   ]
  },
  {
   "cell_type": "markdown",
   "id": "4c33b1ca",
   "metadata": {},
   "source": [
    "Note that both remove() and pop() modify the list in place."
   ]
  },
  {
   "cell_type": "markdown",
   "id": "0df95f4f",
   "metadata": {},
   "source": [
    "## 12. Describe how list values and string values are identical."
   ]
  },
  {
   "cell_type": "markdown",
   "id": "055ac7f2",
   "metadata": {},
   "source": [
    "In Python, lists and strings are both sequences of values and share some similarities:\n",
    "\n",
    "Both lists and strings can be indexed and sliced. For example:"
   ]
  },
  {
   "cell_type": "code",
   "execution_count": 11,
   "id": "e6bb0330",
   "metadata": {},
   "outputs": [
    {
     "name": "stdout",
     "output_type": "stream",
     "text": [
      "1\n",
      "e\n",
      "[2, 3]\n",
      "hel\n"
     ]
    }
   ],
   "source": [
    "a = [1, 2, 3, 4]\n",
    "b = 'hello'\n",
    "print(a[0])  # Output: 1\n",
    "print(b[1])  # Output: 'e'\n",
    "print(a[1:3])  # Output: [2, 3]\n",
    "print(b[:3])  # Output: 'hel'\n"
   ]
  },
  {
   "cell_type": "markdown",
   "id": "940c70d9",
   "metadata": {},
   "source": [
    "Both lists and strings can be concatenated using the + operator. For example:"
   ]
  },
  {
   "cell_type": "code",
   "execution_count": 12,
   "id": "cd01b26f",
   "metadata": {},
   "outputs": [
    {
     "name": "stdout",
     "output_type": "stream",
     "text": [
      "[1, 2, 3, 4, 5, 6]\n",
      "helloworld\n"
     ]
    }
   ],
   "source": [
    "a = [1, 2, 3]\n",
    "b = [4, 5, 6]\n",
    "c = a + b\n",
    "print(c)  # Output: [1, 2, 3, 4, 5, 6]\n",
    "\n",
    "x = 'hello'\n",
    "y = 'world'\n",
    "z = x + y\n",
    "print(z)  # Output: 'helloworld'\n"
   ]
  },
  {
   "cell_type": "markdown",
   "id": "b8730858",
   "metadata": {},
   "source": [
    "Both lists and strings can be replicated using the * operator. For example:"
   ]
  },
  {
   "cell_type": "code",
   "execution_count": 14,
   "id": "c7dd8055",
   "metadata": {},
   "outputs": [
    {
     "name": "stdout",
     "output_type": "stream",
     "text": [
      "[1, 2, 3, 1, 2, 3, 1, 2, 3]\n",
      "hellohellohello\n"
     ]
    }
   ],
   "source": [
    "a = [1, 2, 3]\n",
    "b = a * 3\n",
    "print(b)  # Output: [1, 2, 3, 1, 2, 3, 1, 2, 3]\n",
    "\n",
    "x = 'hello'\n",
    "y = x * 3\n",
    "print(y)  # Output: 'hellohellohello'\n"
   ]
  },
  {
   "cell_type": "markdown",
   "id": "0ae01321",
   "metadata": {},
   "source": [
    "However, there are also some important differences between lists and strings. Lists are mutable, which means they can be modified after they are created, while strings are immutable, which means they cannot be modified after they are created. This means that you can add, remove or modify elements in a list, but you cannot do the same with characters in a string."
   ]
  },
  {
   "cell_type": "markdown",
   "id": "09094c20",
   "metadata": {},
   "source": [
    "## 13. What&#39;s the difference between tuples and lists?"
   ]
  },
  {
   "cell_type": "markdown",
   "id": "8ad40c29",
   "metadata": {},
   "source": [
    "In Python, tuples and lists are both used to store a collection of values, but there are some important differences between them:\n",
    "\n",
    "Mutability: Tuples are immutable, which means once a tuple is created, you cannot modify its contents. Lists, on the other hand, are mutable, which means you can add, remove or modify elements in a list after it is created.\n",
    "\n",
    "Syntax: Tuples are defined using parentheses () and commas ,, while lists are defined using square brackets [] and commas ,.\n",
    "\n",
    "Performance: Since tuples are immutable, they are generally faster and more memory efficient than lists. This is because Python does not have to allocate and deallocate new memory for tuples each time they are modified.\n",
    "\n",
    "Usage: Tuples are typically used for collections of values that will not change, such as coordinates or constants. Lists are typically used for collections of values that may change, such as a list of user inputs or a list of database records.\n",
    "\n",
    "Here is an example of how tuples and lists are defined in Python:"
   ]
  },
  {
   "cell_type": "code",
   "execution_count": 15,
   "id": "c2222260",
   "metadata": {},
   "outputs": [],
   "source": [
    "# Define a tuple\n",
    "my_tuple = (1, 2, 3)\n",
    "\n",
    "# Define a list\n",
    "my_list = [4, 5, 6]\n"
   ]
  },
  {
   "cell_type": "code",
   "execution_count": 16,
   "id": "48c3afb3",
   "metadata": {},
   "outputs": [
    {
     "name": "stdout",
     "output_type": "stream",
     "text": [
      "1\n",
      "5\n",
      "(2, 3)\n",
      "[4, 5]\n"
     ]
    }
   ],
   "source": [
    "# Access an element in a tuple\n",
    "print(my_tuple[0])  # Output: 1\n",
    "\n",
    "# Access an element in a list\n",
    "print(my_list[1])  # Output: 5\n",
    "\n",
    "# Slice a tuple or a list\n",
    "print(my_tuple[1:])  # Output: (2, 3)\n",
    "print(my_list[:2])  # Output: [4, 5]\n"
   ]
  },
  {
   "cell_type": "markdown",
   "id": "305089f6",
   "metadata": {},
   "source": [
    "## 14. How do you type a tuple value that only contains the integer 42?"
   ]
  },
  {
   "cell_type": "markdown",
   "id": "93b222e9",
   "metadata": {},
   "source": [
    "To create a tuple that only contains the integer 42, you can use parentheses and the comma operator , to create a tuple with a single element:"
   ]
  },
  {
   "cell_type": "code",
   "execution_count": 17,
   "id": "8f992b07",
   "metadata": {},
   "outputs": [],
   "source": [
    "my_tuple = (42,)\n"
   ]
  },
  {
   "cell_type": "markdown",
   "id": "ef14df32",
   "metadata": {},
   "source": [
    "Note that the comma is necessary to distinguish the tuple from an integer or a variable in parentheses. Without the comma, Python would interpret the parentheses as a grouping operator, rather than a tuple."
   ]
  },
  {
   "cell_type": "markdown",
   "id": "725898ec",
   "metadata": {},
   "source": [
    "## 15. How do you get a list value&#39;s tuple form? How do you get a tuple value&#39;s list form?"
   ]
  },
  {
   "cell_type": "markdown",
   "id": "5ba589f8",
   "metadata": {},
   "source": [
    "To convert a list to a tuple, you can use the tuple() function:"
   ]
  },
  {
   "cell_type": "code",
   "execution_count": 18,
   "id": "22be709a",
   "metadata": {},
   "outputs": [
    {
     "name": "stdout",
     "output_type": "stream",
     "text": [
      "(1, 2, 3)\n"
     ]
    }
   ],
   "source": [
    "my_list = [1, 2, 3]\n",
    "my_tuple = tuple(my_list)\n",
    "print(my_tuple)  # Output: (1, 2, 3)\n"
   ]
  },
  {
   "cell_type": "markdown",
   "id": "8790b896",
   "metadata": {},
   "source": [
    "To convert a tuple to a list, you can use the list() function:"
   ]
  },
  {
   "cell_type": "code",
   "execution_count": 19,
   "id": "0558b97a",
   "metadata": {},
   "outputs": [
    {
     "name": "stdout",
     "output_type": "stream",
     "text": [
      "[4, 5, 6]\n"
     ]
    }
   ],
   "source": [
    "my_tuple = (4, 5, 6)\n",
    "my_list = list(my_tuple)\n",
    "print(my_list)  # Output: [4, 5, 6]\n"
   ]
  },
  {
   "cell_type": "markdown",
   "id": "603a284c",
   "metadata": {},
   "source": [
    "Note that converting a list to a tuple creates a new tuple object that is immutable, while converting a tuple to a list creates a new list object that is mutable."
   ]
  },
  {
   "cell_type": "markdown",
   "id": "58b0a563",
   "metadata": {},
   "source": [
    "## 16. Variables that &quot;contain&quot; list values are not necessarily lists themselves. Instead, what do they contain?"
   ]
  },
  {
   "cell_type": "markdown",
   "id": "78e82af1",
   "metadata": {},
   "source": [
    "Variables that \"contain\" list values are actually references to list objects in memory. When you assign a list to a variable, the variable does not actually contain the list itself, but rather a reference to the list object in memory. This means that multiple variables can reference the same list object, and modifying the list through one variable will affect all other variables that reference the same list object.\n",
    "\n",
    "For example:"
   ]
  },
  {
   "cell_type": "code",
   "execution_count": 20,
   "id": "7a4f115b",
   "metadata": {},
   "outputs": [
    {
     "name": "stdout",
     "output_type": "stream",
     "text": [
      "[1, 2, 3, 4]\n"
     ]
    }
   ],
   "source": [
    "my_list = [1, 2, 3]\n",
    "my_other_list = my_list\n",
    "my_other_list.append(4)\n",
    "print(my_list)  # Output: [1, 2, 3, 4]\n"
   ]
  },
  {
   "cell_type": "markdown",
   "id": "c2c511b7",
   "metadata": {},
   "source": [
    "In this example, my_list and my_other_list both reference the same list object in memory, so when we append a value to my_other_list, the change is also reflected in my_list."
   ]
  },
  {
   "cell_type": "markdown",
   "id": "f012abb8",
   "metadata": {},
   "source": [
    "## 17. How do you distinguish between copy.copy() and copy.deepcopy()?\n"
   ]
  },
  {
   "cell_type": "markdown",
   "id": "84953c61",
   "metadata": {},
   "source": [
    "copy.copy() and copy.deepcopy() are both methods provided by the copy module in Python that allow you to create copies of mutable objects such as lists and dictionaries.\n",
    "\n",
    "copy.copy() creates a shallow copy of an object, which means that it creates a new object with a new reference, but the contents of the object are still references to the same memory locations as the original object. This means that if the original object contains other mutable objects (e.g. lists), changes made to those objects through one reference will be reflected in the other reference as well.\n",
    "\n",
    "copy.deepcopy() creates a deep copy of an object, which means that it creates a new object with new references to all the elements of the original object. This means that changes made to one object through one reference will not be reflected in the other reference.\n",
    "\n",
    "For example:"
   ]
  },
  {
   "cell_type": "code",
   "execution_count": 21,
   "id": "37c5ac25",
   "metadata": {},
   "outputs": [
    {
     "name": "stdout",
     "output_type": "stream",
     "text": [
      "[[0, 2], [3, 4]]\n",
      "[[1, 2], [3, 4]]\n"
     ]
    }
   ],
   "source": [
    "import copy\n",
    "\n",
    "my_list = [[1, 2], [3, 4]]\n",
    "my_shallow_copy = copy.copy(my_list)\n",
    "my_deep_copy = copy.deepcopy(my_list)\n",
    "\n",
    "# Modify the first element of the first sublist in the original list\n",
    "my_list[0][0] = 0\n",
    "\n",
    "# Check the values of the copied lists\n",
    "print(my_shallow_copy)  # Output: [[0, 2], [3, 4]]\n",
    "print(my_deep_copy)     # Output: [[1, 2], [3, 4]]\n"
   ]
  },
  {
   "cell_type": "markdown",
   "id": "7a13ca0e",
   "metadata": {},
   "source": [
    "In this example, modifying the original list through one reference causes the change to be reflected in the shallow copy, but not the deep copy."
   ]
  }
 ],
 "metadata": {
  "kernelspec": {
   "display_name": "Python 3 (ipykernel)",
   "language": "python",
   "name": "python3"
  },
  "language_info": {
   "codemirror_mode": {
    "name": "ipython",
    "version": 3
   },
   "file_extension": ".py",
   "mimetype": "text/x-python",
   "name": "python",
   "nbconvert_exporter": "python",
   "pygments_lexer": "ipython3",
   "version": "3.10.9"
  }
 },
 "nbformat": 4,
 "nbformat_minor": 5
}
