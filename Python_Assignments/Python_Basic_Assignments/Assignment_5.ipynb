{
 "cells": [
  {
   "cell_type": "markdown",
   "id": "21396fea",
   "metadata": {},
   "source": [
    "## 1. What does an empty dictionary&#39;s code look like?"
   ]
  },
  {
   "cell_type": "markdown",
   "id": "09ec4da9",
   "metadata": {},
   "source": [
    "In Python, an empty dictionary is created using curly braces {} without any key-value pairs inside. Here's what the code for creating an empty dictionary looks like:\n",
    "You can later add key-value pairs to this dictionary using the syntax dictionary[key] = value.\n",
    "\n"
   ]
  },
  {
   "cell_type": "code",
   "execution_count": 1,
   "id": "92d32d23",
   "metadata": {},
   "outputs": [],
   "source": [
    "empty_dict = {}"
   ]
  },
  {
   "cell_type": "markdown",
   "id": "b7c390c2",
   "metadata": {},
   "source": [
    "## 2. What is the value of a dictionary value with the key &#39;foo&#39; and the value 42?"
   ]
  },
  {
   "cell_type": "code",
   "execution_count": 2,
   "id": "63b1b841",
   "metadata": {},
   "outputs": [
    {
     "name": "stdout",
     "output_type": "stream",
     "text": [
      "42\n"
     ]
    }
   ],
   "source": [
    "my_dict = {'foo': 42}\n",
    "value_of_foo = my_dict['foo']\n",
    "\n",
    "print(value_of_foo)  # This will output: 42\n"
   ]
  },
  {
   "cell_type": "markdown",
   "id": "f346b823",
   "metadata": {},
   "source": [
    "## 3. What is the most significant distinction between a dictionary and a list?"
   ]
  },
  {
   "cell_type": "markdown",
   "id": "7832f009",
   "metadata": {},
   "source": [
    "\n",
    "The most significant distinction between a dictionary and a list in Python is how they store and organize data:\n",
    "\n",
    "Storage and Access:\n",
    "\n",
    "Dictionary: A dictionary is a collection of key-value pairs, where each value is associated with a unique key. Keys are used to access the corresponding values quickly. Keys must be unique and immutable (strings, numbers, or tuples), and they are used to identify the values.\n",
    "List: A list is an ordered collection of values that can be of any data type. Each value in a list is assigned an index, starting from 0, which is used to access the elements. Lists are accessed by their position within the list.\n",
    "Ordering:\n",
    "\n",
    "Dictionary: Dictionaries are unordered collections, which means that the order of items is not guaranteed to be the same as when they were added. Starting from Python 3.7, dictionaries maintain the insertion order, and this became a standard feature in Python 3.7+.\n",
    "List: Lists are ordered collections, meaning the order of elements is preserved. Elements in a list can be accessed using their index.\n",
    "Key-Value vs. Index-Based Access:\n",
    "\n",
    "Dictionary: Accessing values in a dictionary is done using keys, providing a more meaningful way to store and retrieve data, especially when the keys have semantic significance.\n",
    "List: Accessing values in a list is done using integer indices. While indices can represent positions or order, they may not carry inherent meaning.\n",
    "Mutability:\n",
    "\n",
    "Dictionary: Dictionaries are mutable, meaning you can modify, add, or remove key-value pairs after creation.\n",
    "List: Lists are also mutable, allowing you to change elements, add new elements, or remove elements.\n",
    "Use Cases:\n",
    "\n",
    "Dictionary: Dictionaries are useful when you want to associate values with meaningful keys, like in a database where you store attributes for a particular item.\n",
    "List: Lists are used when you have a collection of items that need to maintain their order and when the primary way of accessing them is through their position.\n",
    "In summary, dictionaries provide a way to store data using key-value pairs, allowing efficient and meaningful data retrieval, while lists provide ordered collections accessible by index, suitable for sequences of elements. The choice between them depends on the nature of your data and how you intend to access and manipulate it.```"
   ]
  },
  {
   "cell_type": "markdown",
   "id": "c70fee5a",
   "metadata": {},
   "source": [
    "## 4. What happens if you try to access spam[&#39;foo&#39;] if spam is {&#39;bar&#39;: 100}?"
   ]
  },
  {
   "cell_type": "code",
   "execution_count": 3,
   "id": "a495c3e3",
   "metadata": {},
   "outputs": [
    {
     "ename": "KeyError",
     "evalue": "'foo'",
     "output_type": "error",
     "traceback": [
      "\u001b[1;31m---------------------------------------------------------------------------\u001b[0m",
      "\u001b[1;31mKeyError\u001b[0m                                  Traceback (most recent call last)",
      "Cell \u001b[1;32mIn[3], line 4\u001b[0m\n\u001b[0;32m      1\u001b[0m spam \u001b[38;5;241m=\u001b[39m {\u001b[38;5;124m'\u001b[39m\u001b[38;5;124mbar\u001b[39m\u001b[38;5;124m'\u001b[39m: \u001b[38;5;241m100\u001b[39m}\n\u001b[0;32m      3\u001b[0m \u001b[38;5;66;03m# This line will raise a KeyError since 'foo' is not a key in the dictionary\u001b[39;00m\n\u001b[1;32m----> 4\u001b[0m value \u001b[38;5;241m=\u001b[39m \u001b[43mspam\u001b[49m\u001b[43m[\u001b[49m\u001b[38;5;124;43m'\u001b[39;49m\u001b[38;5;124;43mfoo\u001b[39;49m\u001b[38;5;124;43m'\u001b[39;49m\u001b[43m]\u001b[49m\n",
      "\u001b[1;31mKeyError\u001b[0m: 'foo'"
     ]
    }
   ],
   "source": [
    "spam = {'bar': 100}\n",
    "\n",
    "# This line will raise a KeyError since 'foo' is not a key in the dictionary\n",
    "value = spam['foo']\n"
   ]
  },
  {
   "cell_type": "markdown",
   "id": "ffa2f57a",
   "metadata": {},
   "source": [
    "If you try to access spam['foo'] and spam is a dictionary with the key 'bar' and the value 100, you will get a KeyError because the key 'foo' does not exist in the dictionary spam.\n",
    "\n",
    "This error occurs because you're trying to access a dictionary key that doesn't exist in the dictionary. To avoid this error, you should ensure that you're using a valid key that exists in the dictionary before attempting to access it. You can use methods like dict.get(key, default) or check for key existence using the in keyword to handle such cases gracefully."
   ]
  },
  {
   "cell_type": "markdown",
   "id": "b0b97fbf",
   "metadata": {},
   "source": [
    "## 5. If a dictionary is stored in spam, what is the difference between the expressions &#39;cat&#39; in spam and &#39;cat&#39; in spam.keys()?"
   ]
  },
  {
   "cell_type": "markdown",
   "id": "7e365380",
   "metadata": {},
   "source": [
    "In Python, when dealing with dictionaries, there's no practical difference between the expressions 'cat' in spam and 'cat' in spam.keys() when you're checking for the existence of a key in the dictionary. Both expressions are functionally equivalent and will give you the same result.\n",
    "\n",
    "'cat' in spam checks if the key 'cat' exists in the dictionary spam.\n",
    "'cat' in spam.keys() checks if the key 'cat' exists in the list of keys extracted from the dictionary spam."
   ]
  },
  {
   "cell_type": "code",
   "execution_count": 4,
   "id": "fd0a750c",
   "metadata": {},
   "outputs": [
    {
     "name": "stdout",
     "output_type": "stream",
     "text": [
      "True True\n"
     ]
    }
   ],
   "source": [
    "spam = {'cat': 5, 'dog': 10, 'bird': 2}\n",
    "\n",
    "# Checking if 'cat' exists in the dictionary's keys\n",
    "result1 = 'cat' in spam  # True\n",
    "result2 = 'cat' in spam.keys()  # True\n",
    "\n",
    "print(result1, result2)\n"
   ]
  },
  {
   "cell_type": "markdown",
   "id": "7b1c0017",
   "metadata": {},
   "source": [
    "Both result1 and result2 will be True, showing that the two expressions produce the same outcome. It's generally recommended to use 'cat' in spam since it's more concise and idiomatic. Additionally, the in operator directly checks for key existence in the dictionary, so there's no need to call spam.keys() separately."
   ]
  },
  {
   "cell_type": "markdown",
   "id": "f3fb1fc9",
   "metadata": {},
   "source": [
    "## 6. If a dictionary is stored in spam, what is the difference between the expressions &#39;cat&#39; in spam and &#39;cat&#39; in spam.values()?"
   ]
  },
  {
   "cell_type": "markdown",
   "id": "86bd08ba",
   "metadata": {},
   "source": [
    "In Python, the expressions 'cat' in spam and 'cat' in spam.values() have different meanings when it comes to dictionaries.\n",
    "\n",
    "'cat' in spam checks if the string 'cat' exists as a key in the dictionary spam.\n",
    "'cat' in spam.values() checks if the string 'cat' exists as a value in the dictionary spam."
   ]
  },
  {
   "cell_type": "code",
   "execution_count": 5,
   "id": "64bf198b",
   "metadata": {},
   "outputs": [
    {
     "name": "stdout",
     "output_type": "stream",
     "text": [
      "False True\n"
     ]
    }
   ],
   "source": [
    "spam = {'name': 'Whiskers', 'species': 'cat', 'age': 5}\n",
    "\n",
    "# Checking if 'cat' exists as a key in the dictionary\n",
    "result1 = 'cat' in spam  # False\n",
    "\n",
    "# Checking if 'cat' exists as a value in the dictionary\n",
    "result2 = 'cat' in spam.values()  # True\n",
    "\n",
    "print(result1, result2)\n"
   ]
  },
  {
   "cell_type": "markdown",
   "id": "a66f0f1f",
   "metadata": {},
   "source": [
    "In this example, result1 is False because 'cat' is not a key in the spam dictionary. On the other hand, result2 is True because 'cat' is a value associated with the key 'species' in the dictionary.\n",
    "\n",
    "So, 'cat' in spam checks for the presence of 'cat' as a key, and 'cat' in spam.values() checks for the presence of 'cat' as a value in the dictionary."
   ]
  },
  {
   "cell_type": "markdown",
   "id": "d69928be",
   "metadata": {},
   "source": [
    "## 7. What is a shortcut for the following code?\n",
    "- if &#39;color&#39; not in spam:\n",
    "- spam[&#39;color&#39;] = &#39;black&#39;"
   ]
  },
  {
   "cell_type": "code",
   "execution_count": 6,
   "id": "24264905",
   "metadata": {},
   "outputs": [
    {
     "data": {
      "text/plain": [
       "'black'"
      ]
     },
     "execution_count": 6,
     "metadata": {},
     "output_type": "execute_result"
    }
   ],
   "source": [
    "spam.setdefault('color', 'black')\n"
   ]
  },
  {
   "cell_type": "markdown",
   "id": "89c4d085",
   "metadata": {},
   "source": [
    "## 8. How do you &quot;pretty print&quot; dictionary values using which module and function?"
   ]
  },
  {
   "cell_type": "markdown",
   "id": "365413a1",
   "metadata": {},
   "source": [
    "To \"pretty print\" dictionary values in Python, you can use the pprint module (pretty-print module), which provides the pprint() function for formatting and displaying data structures, including dictionaries, in a more human-readable and visually organized way. Here's how you can use it:"
   ]
  },
  {
   "cell_type": "code",
   "execution_count": 7,
   "id": "41c687be",
   "metadata": {},
   "outputs": [
    {
     "name": "stdout",
     "output_type": "stream",
     "text": [
      "{'age': 30, 'city': 'New York', 'name': 'John'}\n"
     ]
    }
   ],
   "source": [
    "import pprint\n",
    "\n",
    "my_dict = {'name': 'John', 'age': 30, 'city': 'New York'}\n",
    "\n",
    "pprint.pprint(my_dict)\n"
   ]
  },
  {
   "cell_type": "markdown",
   "id": "0cbedb46",
   "metadata": {},
   "source": [
    "When you use pprint.pprint(), the dictionary will be displayed in a more structured and visually pleasing format, with each key-value pair on a separate line and appropriate indentation.\n",
    "\n",
    "The pprint() function is useful when you want to display complex data structures, like nested dictionaries or lists, in a readable manner, especially for debugging or logging purposes. It helps avoid long, unwieldy lines of output and provides better visibility into the structure of the data."
   ]
  },
  {
   "cell_type": "code",
   "execution_count": null,
   "id": "30231394",
   "metadata": {},
   "outputs": [],
   "source": []
  },
  {
   "cell_type": "code",
   "execution_count": null,
   "id": "5bc2d148",
   "metadata": {},
   "outputs": [],
   "source": []
  }
 ],
 "metadata": {
  "kernelspec": {
   "display_name": "Python 3 (ipykernel)",
   "language": "python",
   "name": "python3"
  },
  "language_info": {
   "codemirror_mode": {
    "name": "ipython",
    "version": 3
   },
   "file_extension": ".py",
   "mimetype": "text/x-python",
   "name": "python",
   "nbconvert_exporter": "python",
   "pygments_lexer": "ipython3",
   "version": "3.10.9"
  }
 },
 "nbformat": 4,
 "nbformat_minor": 5
}
