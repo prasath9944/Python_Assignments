{
 "cells": [
  {
   "cell_type": "markdown",
   "id": "b703e59b",
   "metadata": {},
   "source": [
    "## 1. Why are functions advantageous to have in your programs?"
   ]
  },
  {
   "cell_type": "markdown",
   "id": "236efe03",
   "metadata": {},
   "source": [
    "Functions are advantageous to have in programs for several reasons:\n",
    "\n",
    "Reusability: Functions allow you to reuse code in different parts of your program or even in different programs altogether. This saves time and effort as you don't have to write the same code over and over again.\n",
    "\n",
    "Modularity: Functions can break down complex tasks into smaller, more manageable pieces. This makes your code easier to understand, maintain, and debug.\n",
    "\n",
    "Abstraction: Functions can hide complex details and provide a simpler interface to the user. This makes the code easier to use and understand, and can help prevent errors.\n",
    "\n",
    "Encapsulation: Functions can encapsulate data and behavior, meaning that the internal workings of the function are hidden from the user. This can improve security and prevent accidental modification of data.\n",
    "\n",
    "Testing: Functions can be tested independently, making it easier to identify and fix bugs in your code.\n",
    "\n",
    "Overall, functions make your code more modular, reusable, and easier to maintain, which can save time and effort in the long run."
   ]
  },
  {
   "cell_type": "markdown",
   "id": "846cdf59",
   "metadata": {},
   "source": [
    "## 2. When does the code in a function run: when it&#39;s specified or when it&#39;s called?"
   ]
  },
  {
   "cell_type": "markdown",
   "id": "55f83142",
   "metadata": {},
   "source": [
    "The code in a function runs when it's called, not when it's specified.\n",
    "\n",
    "When you define a function, you are essentially creating a block of code that can be called later on in the program. The code inside the function is not executed until the function is actually called or invoked.\n",
    "\n",
    "For example, consider the following Python function that adds two numbers together:\n",
    "\n",
    "arduino\n",
    "Copy code\n"
   ]
  },
  {
   "cell_type": "code",
   "execution_count": 3,
   "id": "e2c7c670",
   "metadata": {},
   "outputs": [],
   "source": [
    "def add_numbers(x, y):\n",
    "    result = x + y\n",
    "    return result\n"
   ]
  },
  {
   "cell_type": "markdown",
   "id": "5c2710a7",
   "metadata": {},
   "source": [
    "The code inside the function add_numbers() is not executed until the function is called. So, if you write the above function in your code, but never call it, the code inside the function will never run.\n",
    "\n",
    "Once you call the function and pass in the required arguments, the code inside the function will execute, and the function will return the result.\n",
    "\n",
    "For example:\n",
    "\n",
    "scss\n",
    "Copy code\n"
   ]
  },
  {
   "cell_type": "code",
   "execution_count": 4,
   "id": "1b728c6a",
   "metadata": {},
   "outputs": [
    {
     "name": "stdout",
     "output_type": "stream",
     "text": [
      "8\n"
     ]
    }
   ],
   "source": [
    "result = add_numbers(3, 5)\n",
    "print(result)\n"
   ]
  },
  {
   "cell_type": "markdown",
   "id": "1b861b79",
   "metadata": {},
   "source": [
    "In this case, the function add_numbers() is called with the arguments 3 and 5, and the code inside the function executes, resulting in the value 8 being returned. The value 8 is then assigned to the variable result and printed to the console."
   ]
  },
  {
   "cell_type": "markdown",
   "id": "0efb48e5",
   "metadata": {},
   "source": [
    "## 3. What statement creates a function?"
   ]
  },
  {
   "cell_type": "raw",
   "id": "3d8cff16",
   "metadata": {},
   "source": [
    "\n",
    "In Python, the def statement is used to create a function.\n",
    "\n",
    "The basic syntax of a function definition in Python is as follows:"
   ]
  },
  {
   "cell_type": "code",
   "execution_count": 6,
   "id": "83bfa824",
   "metadata": {},
   "outputs": [],
   "source": [
    "def function_name(parameters):\n",
    "    \"\"\"docstring\"\"\"\n",
    "    # code to be executed\n",
    "    return [expression]"
   ]
  },
  {
   "cell_type": "markdown",
   "id": "660ab8e1",
   "metadata": {},
   "source": [
    "The def keyword is used to define a function.\n",
    "function_name is the name of the function. It should follow the same naming rules as variables in Python.\n",
    "parameters are the inputs to the function. They are optional and can be omitted if the function doesn't require any inputs.\n",
    "The docstring is a string that provides a brief description of what the function does. It's optional but highly recommended as it makes your code more readable.\n",
    "The return statement specifies the value that the function should return. It's optional and can be omitted if the function doesn't need to return any value.\n",
    "For example, here's a simple Python function that takes two numbers as input and returns their sum:"
   ]
  },
  {
   "cell_type": "code",
   "execution_count": 7,
   "id": "80b2ce00",
   "metadata": {},
   "outputs": [],
   "source": [
    "def add_numbers(x, y):\n",
    "    \"\"\"This function adds two numbers\"\"\"\n",
    "    sum = x + y\n",
    "    return sum"
   ]
  },
  {
   "cell_type": "markdown",
   "id": "f81d6be5",
   "metadata": {},
   "source": [
    "In this example, the function name is add_numbers, and it takes two parameters x and y. The docstring provides a brief description of what the function does, and the code inside the function adds the two numbers and returns the sum using the return statement."
   ]
  },
  {
   "cell_type": "markdown",
   "id": "5d329fc4",
   "metadata": {},
   "source": [
    "## 4. What is the difference between a function and a function call?"
   ]
  },
  {
   "cell_type": "markdown",
   "id": "4c04b061",
   "metadata": {},
   "source": [
    "A function is a block of code that performs a specific task and can be called from different parts of the program. It takes input parameters (optional) and can return a value (also optional). A function is defined using the def keyword in Python.\n",
    "\n",
    "On the other hand, a function call is the process of executing a function that has already been defined. When a function is called, the program flow jumps to the function definition, executes the code inside it, and then returns to the point from where the function was called. A function call typically includes the name of the function followed by parentheses that contain any necessary arguments."
   ]
  },
  {
   "cell_type": "markdown",
   "id": "635ac73c",
   "metadata": {},
   "source": [
    "## 5. How many global scopes are there in a Python program? How many local scopes?"
   ]
  },
  {
   "cell_type": "markdown",
   "id": "834f044a",
   "metadata": {},
   "source": [
    "In a Python program, there is only one global scope that is accessible from anywhere in the program. Variables defined in the global scope can be accessed from any part of the program, including from within functions.\n",
    "\n",
    "On the other hand, a local scope is created whenever a function is called. A local scope is only accessible from within the function that created it. Variables defined inside a function are considered to be in the local scope of that function and are not accessible from outside the function.\n",
    "\n",
    "It's important to note that Python follows a set of rules called the LEGB rule to determine the scope of a variable. The LEGB stands for:\n",
    "\n",
    "Local\n",
    "Enclosing\n",
    "Global\n",
    "Built-in\n",
    "Python searches for a variable in the local scope first, then in any enclosing scopes (if the function is defined inside another function), then in the global scope, and finally in the built-in scope (which contains the built-in functions like print(), len(), etc.).\n",
    "\n",
    "In summary, there is only one global scope in a Python program, while the number of local scopes depends on the number of functions in the program and how many times they are called."
   ]
  },
  {
   "cell_type": "markdown",
   "id": "06031db8",
   "metadata": {},
   "source": [
    "## 6. What happens to variables in a local scope when the function call returns?"
   ]
  },
  {
   "cell_type": "markdown",
   "id": "025f7c71",
   "metadata": {},
   "source": [
    "When a function call returns, the local scope of the function is destroyed, and all the variables that were defined in the local scope cease to exist. These variables cannot be accessed from outside the function.\n",
    "\n",
    "Any values that were assigned to the local variables during the execution of the function are lost after the function returns. If a value needs to be returned from the function, it must be done explicitly using the return statement. The value returned by the function can then be assigned to a variable in the calling code, which will be accessible outside the function.\n",
    "\n",
    "Here's an example to illustrate what happens to variables in a local scope when a function call returns:"
   ]
  },
  {
   "cell_type": "code",
   "execution_count": 11,
   "id": "04eac2fc",
   "metadata": {},
   "outputs": [
    {
     "ename": "NameError",
     "evalue": "name 'res' is not defined",
     "output_type": "error",
     "traceback": [
      "\u001b[1;31m---------------------------------------------------------------------------\u001b[0m",
      "\u001b[1;31mNameError\u001b[0m                                 Traceback (most recent call last)",
      "Cell \u001b[1;32mIn[11], line 10\u001b[0m\n\u001b[0;32m      7\u001b[0m \u001b[38;5;28msum\u001b[39m \u001b[38;5;241m=\u001b[39m add_no(\u001b[38;5;241m2\u001b[39m, \u001b[38;5;241m3\u001b[39m)\n\u001b[0;32m      9\u001b[0m \u001b[38;5;66;03m# the variable 'result' does not exist outside the function\u001b[39;00m\n\u001b[1;32m---> 10\u001b[0m \u001b[38;5;28mprint\u001b[39m(\u001b[43mres\u001b[49m)\n",
      "\u001b[1;31mNameError\u001b[0m: name 'res' is not defined"
     ]
    }
   ],
   "source": [
    "def add_no(a, b):\n",
    "    # defining a local variable inside the function\n",
    "    res = a + b\n",
    "    return res\n",
    "\n",
    "# calling the function and storing the result in a variable\n",
    "sum = add_no(2, 3)\n",
    "\n",
    "# the variable 'result' does not exist outside the function\n",
    "print(res)  # this will raise a NameError"
   ]
  },
  {
   "cell_type": "markdown",
   "id": "48abf75b",
   "metadata": {},
   "source": [
    "In this example, the add_numbers() function takes two arguments a and b and returns their sum. Inside the function, a local variable result is defined to store the result of the addition. After the function returns, the variable result is destroyed and cannot be accessed from outside the function.\n",
    "\n",
    "When the function is called with arguments 2 and 3, the result of the addition is returned and stored in the variable sum. However, the variable result no longer exists and trying to print it outside the function will result in a NameError"
   ]
  },
  {
   "cell_type": "markdown",
   "id": "f145a384",
   "metadata": {},
   "source": [
    "## 7. What is the concept of a return value? Is it possible to have a return value in an expression?"
   ]
  },
  {
   "cell_type": "markdown",
   "id": "9f341d4b",
   "metadata": {},
   "source": [
    "In Python, a return value is the value that a function returns after it has completed its execution. The return value is specified using the return statement inside the function.\n",
    "\n",
    "The concept of a return value is important because it allows functions to communicate their results back to the calling code. By returning a value, a function can pass data back to the calling code, which can then use that data for further processing.\n",
    "\n",
    "For example, consider the following function that calculates the sum of two numbers:"
   ]
  },
  {
   "cell_type": "code",
   "execution_count": 12,
   "id": "e1d13440",
   "metadata": {},
   "outputs": [
    {
     "name": "stdout",
     "output_type": "stream",
     "text": [
      "11\n"
     ]
    }
   ],
   "source": [
    "def multiply_numbers(a, b):\n",
    "    return a * b\n",
    "\n",
    "result = multiply_numbers(2, 3) + 5\n",
    "\n",
    "print(result)"
   ]
  },
  {
   "cell_type": "markdown",
   "id": "041692a8",
   "metadata": {},
   "source": [
    "In this function, the return statement specifies the value that the function should return after it has completed its execution. When the function is called with two arguments, it returns their sum as a value, which can then be used by the calling code.\n",
    "\n",
    "It is also possible to have a return value in an expression. This is known as a \"function call expression\" or simply a \"call expression\". A call expression consists of a function name followed by parentheses containing the arguments to the function.\n",
    "\n",
    "Here's an example:"
   ]
  },
  {
   "cell_type": "code",
   "execution_count": 13,
   "id": "ba7617e4",
   "metadata": {},
   "outputs": [
    {
     "name": "stdout",
     "output_type": "stream",
     "text": [
      "11\n"
     ]
    }
   ],
   "source": [
    "def multiply_numbers(a, b):\n",
    "    return a * b\n",
    "\n",
    "result = multiply_numbers(2, 3) + 5\n",
    "\n",
    "print(result)"
   ]
  },
  {
   "cell_type": "markdown",
   "id": "99979361",
   "metadata": {},
   "source": [
    "In this example, the multiply_numbers() function takes two arguments a and b, multiplies them, and returns the result. The value returned by the function is then added to 5 to produce the final result, which is printed to the console.\n",
    "\n",
    "So, in summary, a return value is the value that a function returns after it has completed its execution. It is possible to have a return value in an expression, which allows the value returned by a function to be used in further processing."
   ]
  },
  {
   "cell_type": "markdown",
   "id": "4e76163d",
   "metadata": {},
   "source": [
    "## 8. If a function does not have a return statement, what is the return value of a call to that function?\n"
   ]
  },
  {
   "cell_type": "markdown",
   "id": "55203e5f",
   "metadata": {},
   "source": [
    "\n",
    "If a function does not have a return statement, the return value of a call to that function is None. In other words, the function does not return any value.\n",
    "\n",
    "Consider the following example:"
   ]
  },
  {
   "cell_type": "code",
   "execution_count": 14,
   "id": "91c503c1",
   "metadata": {},
   "outputs": [
    {
     "name": "stdout",
     "output_type": "stream",
     "text": [
      "Hello, World!\n",
      "None\n"
     ]
    }
   ],
   "source": [
    "def print_hello():\n",
    "    print(\"Hello, World!\")\n",
    "\n",
    "result = print_hello()\n",
    "\n",
    "print(result)"
   ]
  },
  {
   "cell_type": "markdown",
   "id": "b9732d11",
   "metadata": {},
   "source": [
    "In this example, the print_hello() function does not have a return statement. When the function is called, it simply prints the string \"Hello, World!\" to the console. The variable result is assigned the value returned by the function, which in this case is None. When result is printed to the console, it will output None.\n",
    "\n",
    "So, to summarize, if a function does not have a return statement, the return value of a call to that function is None.\n",
    "\n",
    "\n",
    "\n",
    "\n"
   ]
  },
  {
   "cell_type": "markdown",
   "id": "0959d441",
   "metadata": {},
   "source": [
    "## 9. How do you make a function variable refer to the global variable?"
   ]
  },
  {
   "cell_type": "markdown",
   "id": "4b8c0672",
   "metadata": {},
   "source": [
    "To make a function variable refer to a global variable, you can use the global keyword inside the function. This tells Python that the variable is a global variable, rather than a local variable, and allows you to access and modify the global variable from within the function.\n",
    "\n",
    "Here's an example:"
   ]
  },
  {
   "cell_type": "code",
   "execution_count": 15,
   "id": "e1cb78a9",
   "metadata": {},
   "outputs": [
    {
     "name": "stdout",
     "output_type": "stream",
     "text": [
      "20\n"
     ]
    }
   ],
   "source": [
    "x = 10\n",
    "\n",
    "def modify_x():\n",
    "    global x\n",
    "    x = 20\n",
    "\n",
    "modify_x()\n",
    "\n",
    "print(x)"
   ]
  },
  {
   "cell_type": "markdown",
   "id": "8a13514d",
   "metadata": {},
   "source": [
    "In this example, we define a global variable x with a value of 10. We then define a function modify_x() that modifies the value of x to 20. To do this, we use the global keyword to tell Python that x is a global variable. When we call the modify_x() function, it changes the value of the global variable x to 20. Finally, we print the value of x to the console, which outputs 20.\n",
    "\n",
    "So, to summarize, to make a function variable refer to a global variable, you can use the global keyword inside the function, followed by the name of the global variable you want to access or modify."
   ]
  },
  {
   "cell_type": "markdown",
   "id": "f8d4588e",
   "metadata": {},
   "source": [
    "## 10. What is the data type of None?"
   ]
  },
  {
   "cell_type": "markdown",
   "id": "5b78ca36",
   "metadata": {},
   "source": [
    "The data type of None in Python is NoneType.\n",
    "\n",
    "None is a special value in Python that represents the absence of a value. It is often used to indicate that a variable or function has no value, or to represent the absence of a result.\n",
    "\n",
    "Here's an example:"
   ]
  },
  {
   "cell_type": "code",
   "execution_count": 16,
   "id": "bad93359",
   "metadata": {},
   "outputs": [
    {
     "name": "stdout",
     "output_type": "stream",
     "text": [
      "<class 'NoneType'>\n"
     ]
    }
   ],
   "source": [
    "x = None\n",
    "\n",
    "print(type(x))"
   ]
  },
  {
   "cell_type": "markdown",
   "id": "fcc326d6",
   "metadata": {},
   "source": [
    "In this example, we define a variable x and assign it the value None. We then use the type() function to print the data type of x to the console, which outputs <class 'NoneType'>.\n",
    "\n",
    "So, to summarize, the data type of None in Python is NoneType."
   ]
  },
  {
   "cell_type": "markdown",
   "id": "4e25b03d",
   "metadata": {},
   "source": [
    "## 11. What does the sentence import areallyourpetsnamederic do?"
   ]
  },
  {
   "cell_type": "markdown",
   "id": "4fe543f7",
   "metadata": {},
   "source": [
    "The sentence import areallyourpetsnamederic is not a valid Python module or package name, so trying to import it would result in a ModuleNotFoundError exception being raised.\n",
    "\n",
    "In general, the import statement in Python is used to load and make available code from other Python modules or packages. When a module or package is imported, its code is executed, and its functions, classes, and variables become available for use in the importing module.\n",
    "\n",
    "For example, if you had a module named my_module containing a function called my_function, you could import that function into another module like this:"
   ]
  },
  {
   "cell_type": "code",
   "execution_count": 17,
   "id": "7cabc121",
   "metadata": {},
   "outputs": [
    {
     "ename": "ModuleNotFoundError",
     "evalue": "No module named 'my_module'",
     "output_type": "error",
     "traceback": [
      "\u001b[1;31m---------------------------------------------------------------------------\u001b[0m",
      "\u001b[1;31mModuleNotFoundError\u001b[0m                       Traceback (most recent call last)",
      "Cell \u001b[1;32mIn[17], line 1\u001b[0m\n\u001b[1;32m----> 1\u001b[0m \u001b[38;5;28;01mfrom\u001b[39;00m \u001b[38;5;21;01mmy_module\u001b[39;00m \u001b[38;5;28;01mimport\u001b[39;00m my_function\n\u001b[0;32m      3\u001b[0m result \u001b[38;5;241m=\u001b[39m my_function()\n",
      "\u001b[1;31mModuleNotFoundError\u001b[0m: No module named 'my_module'"
     ]
    }
   ],
   "source": [
    "from my_module import my_function\n",
    "\n",
    "result = my_function()"
   ]
  },
  {
   "cell_type": "markdown",
   "id": "9807f496",
   "metadata": {},
   "source": [
    "In this example, we import the my_function function from the my_module module using the from ... import syntax. We can then call the my_function function as if it were defined in the importing module.\n",
    "\n",
    "So, to summarize, the sentence import areallyourpetsnamederic is not a valid Python import statement, and attempting to import it would result in an error."
   ]
  },
  {
   "cell_type": "markdown",
   "id": "18ccc779",
   "metadata": {},
   "source": [
    "## 12. If you had a bacon() feature in a spam module, what would you call it after importing spam?"
   ]
  },
  {
   "cell_type": "markdown",
   "id": "37677303",
   "metadata": {},
   "source": [
    "If you imported a module named spam that contains a function called bacon(), you would call it using the dot notation like this:"
   ]
  },
  {
   "cell_type": "markdown",
   "id": "cfa43b3c",
   "metadata": {},
   "source": [
    "import spam\n",
    "\n",
    "spam.bacon()"
   ]
  },
  {
   "cell_type": "markdown",
   "id": "2b3c6be0",
   "metadata": {},
   "source": [
    "In this example, we import the spam module and then call the bacon() function using the dot notation, which specifies that we want to call the bacon() function that is defined in the spam module.\n",
    "\n",
    "Alternatively, you could import the bacon() function directly from the spam module like this:\n",
    "\n",
    "csharp\n",
    "Copy code\n",
    "from spam import bacon\n",
    "\n",
    "bacon()\n",
    "In this case, we use the from ... import syntax to import the bacon() function directly from the spam module. We can then call the bacon() function directly without needing to specify the module name.\n",
    "\n",
    "\n",
    "\n",
    "\n",
    "\n",
    "\n"
   ]
  },
  {
   "cell_type": "markdown",
   "id": "ec379628",
   "metadata": {},
   "source": [
    "## 13. What can you do to save a programme from crashing if it encounters an error?"
   ]
  },
  {
   "cell_type": "markdown",
   "id": "9249f09c",
   "metadata": {},
   "source": [
    "\n",
    "There are several ways to handle errors in a Python program and prevent it from crashing:\n",
    "\n",
    "Use try-except blocks: Wrap the code that could potentially raise an exception in a try block, and then catch and handle any exceptions that are raised in an except block. This will allow the program to gracefully handle errors without crashing.\n",
    "\n",
    "Use assertions: Assertions are statements that assert a certain condition is true. If the condition is false, an AssertionError is raised, which can be caught and handled like any other exception.\n",
    "\n",
    "Use logging: Logging is a powerful tool for debugging and error handling. You can log error messages, warnings, and other information to a file or console, which can help you diagnose and fix problems in your program.\n",
    "\n",
    "Use default values: If your program depends on user input or external data, it's important to have default values or fallback mechanisms in place in case that input or data is invalid or missing.\n",
    "\n",
    "Use defensive programming techniques: This means writing code that anticipates and handles errors and edge cases, rather than assuming everything will always work perfectly.\n",
    "\n",
    "By using these techniques, you can help ensure that your program is robust and can handle errors and unexpected inputs without crashing."
   ]
  },
  {
   "cell_type": "markdown",
   "id": "24a185cd",
   "metadata": {},
   "source": [
    "## 14. What is the purpose of the try clause? What is the purpose of the except clause?"
   ]
  },
  {
   "cell_type": "markdown",
   "id": "e3fa8abd",
   "metadata": {},
   "source": [
    "The try and except clauses are used together in Python to handle errors and exceptions that may occur during the execution of a program.\n",
    "\n",
    "The purpose of the try clause is to define a block of code that may raise an exception or error. When the Python interpreter encounters a try statement, it attempts to execute the code within the try block. If an exception is raised during the execution of this block, control is passed to the nearest except block that matches the type of exception that was raised.\n",
    "\n",
    "The purpose of the except clause is to define a block of code that will be executed if an exception is raised during the execution of the code within the try block. The except clause specifies the type of exception that should be handled and provides a block of code to execute if that exception is raised.\n",
    "\n",
    "For example:"
   ]
  },
  {
   "cell_type": "code",
   "execution_count": 23,
   "id": "f9f450e3",
   "metadata": {},
   "outputs": [
    {
     "ename": "IndentationError",
     "evalue": "expected an indented block after 'try' statement on line 1 (1756554276.py, line 3)",
     "output_type": "error",
     "traceback": [
      "\u001b[1;36m  Cell \u001b[1;32mIn[23], line 3\u001b[1;36m\u001b[0m\n\u001b[1;33m    except ValueError:\u001b[0m\n\u001b[1;37m    ^\u001b[0m\n\u001b[1;31mIndentationError\u001b[0m\u001b[1;31m:\u001b[0m expected an indented block after 'try' statement on line 1\n"
     ]
    }
   ],
   "source": [
    "try:\n",
    "    # code that may raise an exception\n",
    "except ValueError:\n",
    "    # code to handle a ValueError exception\n",
    "except ZeroDivisionError:\n",
    "    # code to handle a ZeroDivisionError exception\n",
    "except:\n",
    "    # code to handle any other type of exception"
   ]
  },
  {
   "cell_type": "markdown",
   "id": "3f45236a",
   "metadata": {},
   "source": [
    "In this example, the try block contains code that may raise an exception. The except block provides three clauses that handle different types of exceptions: a ValueError, a ZeroDivisionError, and any other type of exception. If an exception is raised during the execution of the try block, the interpreter will search for an except block that matches the type of exception and execute the code within that block."
   ]
  }
 ],
 "metadata": {
  "kernelspec": {
   "display_name": "Python 3 (ipykernel)",
   "language": "python",
   "name": "python3"
  },
  "language_info": {
   "codemirror_mode": {
    "name": "ipython",
    "version": 3
   },
   "file_extension": ".py",
   "mimetype": "text/x-python",
   "name": "python",
   "nbconvert_exporter": "python",
   "pygments_lexer": "ipython3",
   "version": "3.10.9"
  }
 },
 "nbformat": 4,
 "nbformat_minor": 5
}
