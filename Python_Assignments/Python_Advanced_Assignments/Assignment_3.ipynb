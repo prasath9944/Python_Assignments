{
 "cells": [
  {
   "cell_type": "markdown",
   "id": "37dd44c5",
   "metadata": {},
   "source": [
    "## 1. What is the concept of an abstract superclass?"
   ]
  },
  {
   "cell_type": "markdown",
   "id": "7e3b0986",
   "metadata": {},
   "source": [
    "An abstract superclass, also known as an abstract class, is a class that is designed to be subclassed but cannot be instantiated on its own. It is a blueprint or template for creating more specialized classes, and it provides a common interface for all its subclasses.\n",
    "\n",
    "An abstract superclass is typically used to define a set of common attributes and methods that should be shared by all its subclasses. It may provide default implementations for some methods, but it leaves others undefined or \"abstract\". These abstract methods are intended to be implemented by the subclasses, providing a way to customize the behavior of the superclass.\n",
    "\n",
    "In Python, you can define an abstract superclass using the abc module. The abc.ABC class serves as a base class for defining abstract classes, and the @abstractmethod decorator can be used to define abstract methods.\n",
    "\n",
    "Here is an example of an abstract superclass in Python:"
   ]
  },
  {
   "cell_type": "code",
   "execution_count": 2,
   "id": "44bbce5a",
   "metadata": {},
   "outputs": [],
   "source": [
    "import abc\n",
    "\n",
    "class Animal(abc.ABC):\n",
    "    @abstractmethod\n",
    "    def make_sound(self):\n",
    "        pass\n",
    "\n",
    "class Dog(Animal):\n",
    "    def make_sound(self):\n",
    "        print(\"Woof!\")\n",
    "\n",
    "class Cat(Animal):\n",
    "    def make_sound(self):\n",
    "        print(\"Meow!\")\n"
   ]
  },
  {
   "cell_type": "markdown",
   "id": "f164f9be",
   "metadata": {},
   "source": [
    "In this example, the Animal class is an abstract superclass that defines an abstract method make_sound(). The Dog and Cat classes are subclasses of Animal that implement the make_sound() method. Note that Animal cannot be instantiated directly, but only through its subclasses."
   ]
  },
  {
   "cell_type": "markdown",
   "id": "2b6a453c",
   "metadata": {},
   "source": [
    "## 2. What happens when a class statement&#39;s top level contains a basic assignment statement?"
   ]
  },
  {
   "cell_type": "markdown",
   "id": "e08edbb5",
   "metadata": {},
   "source": [
    "When a class statement's top level contains a basic assignment statement, the assignment creates a class variable. This class variable is shared among all instances of the class and can be accessed using either the class name or an instance of the class.\n",
    "\n",
    "Here is an example:"
   ]
  },
  {
   "cell_type": "code",
   "execution_count": 3,
   "id": "906681b7",
   "metadata": {},
   "outputs": [
    {
     "name": "stdout",
     "output_type": "stream",
     "text": [
      "0\n",
      "0\n",
      "1\n",
      "1\n",
      "2\n",
      "1\n"
     ]
    }
   ],
   "source": [
    "class MyClass:\n",
    "    x = 0  # class variable\n",
    "\n",
    "    def __init__(self):\n",
    "        self.y = 0  # instance variable\n",
    "\n",
    "obj1 = MyClass()\n",
    "obj2 = MyClass()\n",
    "\n",
    "print(obj1.x)  # prints 0\n",
    "print(obj2.x)  # prints 0\n",
    "\n",
    "MyClass.x = 1\n",
    "\n",
    "print(obj1.x)  # prints 1\n",
    "print(obj2.x)  # prints 1\n",
    "\n",
    "obj1.x = 2\n",
    "\n",
    "print(obj1.x)  # prints 2\n",
    "print(obj2.x)  # prints 1\n"
   ]
  },
  {
   "cell_type": "markdown",
   "id": "16ab2dde",
   "metadata": {},
   "source": [
    "In this example, the MyClass class contains a class variable x that is initially set to 0. The __init__ method defines an instance variable y that is set to 0 for each instance of the class. When we create two instances of the class (obj1 and obj2), both have x set to 0.\n",
    "\n",
    "We then change the value of MyClass.x to 1, and both obj1.x and obj2.x reflect this change. We then set obj1.x to 2, but this only changes the value of x for obj1, not for obj2 or for the MyClass class.\n",
    "\n",
    "In summary, when a class statement's top level contains a basic assignment statement, it creates a class variable that is shared among all instances of the class. Any changes made to the class variable are reflected in all instances, but if an instance variable with the same name is defined, it will shadow the class variable for that particular instance."
   ]
  },
  {
   "cell_type": "markdown",
   "id": "d2eea0d1",
   "metadata": {},
   "source": [
    "## 3. Why does a class need to manually call a superclass&#39;s __init__ method?"
   ]
  },
  {
   "cell_type": "markdown",
   "id": "9d413803",
   "metadata": {},
   "source": [
    "In Python, when a class inherits from a superclass, it does not automatically call the superclass's __init__ method unless it is explicitly called by the subclass. The reason for this is that the subclass may need to provide additional arguments to the superclass's __init__ method that are not defined in the superclass.\n",
    "\n",
    "The __init__ method is used to initialize an object's attributes when it is created. If a subclass does not call the superclass's __init__ method, the object will not be properly initialized and may not behave as expected.\n",
    "\n",
    "Here is an example:"
   ]
  },
  {
   "cell_type": "code",
   "execution_count": 4,
   "id": "37523271",
   "metadata": {},
   "outputs": [
    {
     "name": "stdout",
     "output_type": "stream",
     "text": [
      "Fido\n",
      "Labrador\n"
     ]
    }
   ],
   "source": [
    "class Animal:\n",
    "    def __init__(self, name):\n",
    "        self.name = name\n",
    "\n",
    "class Dog(Animal):\n",
    "    def __init__(self, name, breed):\n",
    "        self.breed = breed\n",
    "        Animal.__init__(self, name)\n",
    "\n",
    "dog = Dog(\"Fido\", \"Labrador\")\n",
    "print(dog.name)  # prints \"Fido\"\n",
    "print(dog.breed)  # prints \"Labrador\"\n"
   ]
  },
  {
   "cell_type": "markdown",
   "id": "d39b917f",
   "metadata": {},
   "source": [
    "In this example, the Animal class has an __init__ method that takes a name argument and initializes the name attribute of the object. The Dog class inherits from Animal and has an additional breed argument that is used to initialize the breed attribute.\n",
    "\n",
    "To properly initialize a Dog object, the __init__ method of Animal is called using Animal.__init__(self, name) inside the Dog class's __init__ method. This ensures that the name attribute is properly initialized in addition to the breed attribute.\n",
    "\n",
    "In summary, a class needs to manually call a superclass's __init__ method to properly initialize an object's attributes and to ensure that any necessary initialization code defined in the superclass is executed."
   ]
  },
  {
   "cell_type": "markdown",
   "id": "8572c9b6",
   "metadata": {},
   "source": [
    "## 4. How can you augment, instead of completely replacing, an inherited method?"
   ]
  },
  {
   "cell_type": "markdown",
   "id": "dfd825e9",
   "metadata": {},
   "source": [
    "In Python, a subclass can augment, or extend, an inherited method from a superclass by calling the superclass's method and then adding additional functionality. This can be done using the super() function, which returns a temporary object of the superclass, allowing you to call its methods.\n",
    "\n",
    "Here is an example:"
   ]
  },
  {
   "cell_type": "code",
   "execution_count": 5,
   "id": "206975fb",
   "metadata": {},
   "outputs": [
    {
     "name": "stdout",
     "output_type": "stream",
     "text": [
      "The animal makes a sound\n",
      "The dog barks\n"
     ]
    }
   ],
   "source": [
    "class Animal:\n",
    "    def make_sound(self):\n",
    "        print(\"The animal makes a sound\")\n",
    "\n",
    "class Dog(Animal):\n",
    "    def make_sound(self):\n",
    "        super().make_sound()\n",
    "        print(\"The dog barks\")\n",
    "\n",
    "dog = Dog()\n",
    "dog.make_sound()  # prints \"The animal makes a sound\" followed by \"The dog barks\"\n"
   ]
  },
  {
   "cell_type": "markdown",
   "id": "4a1b2e63",
   "metadata": {},
   "source": [
    "In this example, the Animal class has a make_sound method that simply prints a message. The Dog class inherits from Animal and overrides the make_sound method to add the message \"The dog barks\".\n",
    "\n",
    "Inside the Dog class's make_sound method, super().make_sound() is used to call the make_sound method of the superclass Animal. This ensures that the original behavior of Animal's make_sound method is retained while also allowing the Dog class to add its own behavior.\n",
    "\n",
    "In summary, you can augment, or extend, an inherited method in Python by calling the superclass's method using super() and then adding additional functionality inside the subclass's method. This allows you to modify the behavior of the inherited method while retaining the original functionality."
   ]
  },
  {
   "cell_type": "markdown",
   "id": "9edf81a4",
   "metadata": {},
   "source": [
    "## 5. How is the local scope of a class different from that of a function?"
   ]
  },
  {
   "cell_type": "markdown",
   "id": "a8f9d612",
   "metadata": {},
   "source": [
    "In Python, a class creates a new namespace, which is separate from the global namespace and the local namespace of any function. When a method is defined in a class, it creates a local namespace for that method, which is accessible only within that method.\n",
    "\n",
    "The local scope of a function is created when the function is called, and any variables defined inside the function are local to that function. These variables can be accessed only within the function and are destroyed when the function returns.\n",
    "\n",
    "In contrast, the local scope of a class method is created when the method is called on an instance of the class. Any variables defined inside the method are local to that method and are destroyed when the method returns or when the instance is deleted.\n",
    "\n",
    "Here is an example that illustrates the difference:"
   ]
  },
  {
   "cell_type": "code",
   "execution_count": 6,
   "id": "42dcbe4d",
   "metadata": {},
   "outputs": [
    {
     "name": "stdout",
     "output_type": "stream",
     "text": [
      "35\n",
      "30\n",
      "10\n",
      "20\n"
     ]
    }
   ],
   "source": [
    "x = 10  # global variable\n",
    "\n",
    "class MyClass:\n",
    "    y = 20  # class variable\n",
    "    \n",
    "    def my_method(self, z):\n",
    "        # z is a local variable in the method\n",
    "        result = x + self.y + z  # x and self.y are accessible in the method\n",
    "        return result\n",
    "\n",
    "def my_function():\n",
    "    a = 30  # local variable in the function\n",
    "    return a\n",
    "\n",
    "obj = MyClass()\n",
    "print(obj.my_method(5))  # prints 35\n",
    "\n",
    "print(my_function())  # prints 30\n",
    "\n",
    "print(x)  # prints 10\n",
    "print(obj.y)  # prints 20\n"
   ]
  },
  {
   "cell_type": "markdown",
   "id": "b4e21555",
   "metadata": {},
   "source": [
    "In this example, x is a global variable, MyClass defines a class variable y, my_method defines a local variable z, and my_function defines a local variable a. The local scope of my_method is accessible only within the method, while the local scope of my_function is accessible only within the function. The global and class variables can be accessed from anywhere within the program.\n",
    "\n",
    "In summary, the local scope of a class method is different from that of a function because it is created when the method is called on an instance of the class and is accessible only within that method. The local scope of a function, on the other hand, is created when the function is called and is accessible only within that function."
   ]
  },
  {
   "cell_type": "code",
   "execution_count": null,
   "id": "fab0a655",
   "metadata": {},
   "outputs": [],
   "source": []
  }
 ],
 "metadata": {
  "kernelspec": {
   "display_name": "Python 3 (ipykernel)",
   "language": "python",
   "name": "python3"
  },
  "language_info": {
   "codemirror_mode": {
    "name": "ipython",
    "version": 3
   },
   "file_extension": ".py",
   "mimetype": "text/x-python",
   "name": "python",
   "nbconvert_exporter": "python",
   "pygments_lexer": "ipython3",
   "version": "3.10.9"
  }
 },
 "nbformat": 4,
 "nbformat_minor": 5
}
