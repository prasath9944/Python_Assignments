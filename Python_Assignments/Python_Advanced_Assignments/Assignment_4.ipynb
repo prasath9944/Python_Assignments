{
 "cells": [
  {
   "cell_type": "markdown",
   "id": "b3e7adc0",
   "metadata": {},
   "source": [
    "## Q1. Which two operator overloading methods can you use in your classes to support iteration?"
   ]
  },
  {
   "cell_type": "markdown",
   "id": "5912eb7b",
   "metadata": {},
   "source": [
    "\n",
    "In Python, you can use the following two operator overloading methods in your classes to support iteration:\n",
    "\n",
    "__iter__(self): This method is called when an iterator object is created for the class, typically using the iter() built-in function. It should return an iterator object that defines the __next__() method to iterate over the items in the class.\n",
    "\n",
    "__next__(self): This method is called by the iterator object returned by __iter__() to get the next item in the iteration. It should return the next item in the iteration or raise the StopIteration exception when there are no more items to iterate over.\n",
    "\n",
    "Here is an example that shows how to use these methods to create an iterable class:\n",
    "\n"
   ]
  },
  {
   "cell_type": "code",
   "execution_count": 1,
   "id": "02458648",
   "metadata": {},
   "outputs": [],
   "source": [
    "class MyIterable:\n",
    "    def __init__(self, data):\n",
    "        self.data = data\n",
    "        self.index = 0\n",
    "\n",
    "    def __iter__(self):\n",
    "        return self\n",
    "\n",
    "    def __next__(self):\n",
    "        if self.index >= len(self.data):\n",
    "            raise StopIteration\n",
    "        result = self.data[self.index]\n",
    "        self.index += 1\n",
    "        return result\n"
   ]
  },
  {
   "cell_type": "markdown",
   "id": "61b8ea25",
   "metadata": {},
   "source": [
    "In this example, the MyIterable class defines the __iter__() and __next__() methods to create an iterable object that can be used in a for loop. The __iter__() method simply returns the instance itself, while the __next__() method gets the next item in the data list and raises StopIteration when there are no more items to iterate over.\n",
    "\n",
    "You can use this iterable class in a for loop like this:"
   ]
  },
  {
   "cell_type": "code",
   "execution_count": 2,
   "id": "cb311353",
   "metadata": {},
   "outputs": [
    {
     "name": "stdout",
     "output_type": "stream",
     "text": [
      "1\n",
      "2\n",
      "3\n",
      "4\n",
      "5\n"
     ]
    }
   ],
   "source": [
    "my_iterable = MyIterable([1, 2, 3, 4, 5])\n",
    "for item in my_iterable:\n",
    "    print(item)\n"
   ]
  },
  {
   "cell_type": "markdown",
   "id": "a5d4feef",
   "metadata": {},
   "source": [
    "In summary, you can use the __iter__() and __next__() methods in your classes to support iteration and create iterable objects that can be used in for loops."
   ]
  },
  {
   "cell_type": "markdown",
   "id": "da5571df",
   "metadata": {},
   "source": [
    "## Q2. In what contexts do the two operator overloading methods manage printing?"
   ]
  },
  {
   "cell_type": "markdown",
   "id": "33c6f1b0",
   "metadata": {},
   "source": [
    "In Python, the __repr__ and __str__ methods are used to define how an object is represented as a string.\n",
    "\n",
    "The __repr__ method is used to define the official string representation of an object. It is used in the following contexts:\n",
    "\n",
    "When the repr() function is called on an object.\n",
    "When an object is displayed in the interactive console.\n",
    "When an object is printed with the %r format specifier.\n",
    "The __str__ method is used to define the informal or nicely formatted string representation of an object. It is used in the following contexts:\n",
    "\n",
    "When the str() function is called on an object.\n",
    "When an object is printed with the print() function or with the %s format specifier.\n",
    "When an object is converted to a string implicitly, such as when used with string concatenation.\n",
    "In summary, __repr__ is used to provide a more technical or formal representation of an object, while __str__ is used to provide a more human-readable or informal representation of an object."
   ]
  },
  {
   "cell_type": "markdown",
   "id": "59026184",
   "metadata": {},
   "source": [
    "## Q3. In a class, how do you intercept slice operations?"
   ]
  },
  {
   "cell_type": "markdown",
   "id": "18fbba1b",
   "metadata": {},
   "source": [
    "In Python, you can intercept slice operations in a class by implementing the __getitem__() method and checking if the argument passed to the method is a slice object.\n",
    "\n",
    "The __getitem__() method is used to define the behavior of the class when an item is accessed using the square bracket notation. If the argument passed to __getitem__() is a slice object, it means that a slice operation is being performed.\n",
    "\n",
    "Here's an example of how you can intercept slice operations in a class:"
   ]
  },
  {
   "cell_type": "code",
   "execution_count": 3,
   "id": "8049ffa6",
   "metadata": {},
   "outputs": [],
   "source": [
    "class MyList:\n",
    "    def __init__(self, *args):\n",
    "        self.data = list(args)\n",
    "\n",
    "    def __getitem__(self, index):\n",
    "        if isinstance(index, slice):\n",
    "            start, stop, step = index.indices(len(self.data))\n",
    "            return [self.data[i] for i in range(start, stop, step)]\n",
    "        else:\n",
    "            return self.data[index]\n"
   ]
  },
  {
   "cell_type": "markdown",
   "id": "361e7b90",
   "metadata": {},
   "source": [
    "In the above example, the MyList class implements the __getitem__() method to intercept slice operations. It first checks if the index argument is an instance of the slice class. If it is, it uses the indices() method of the slice object to get the start, stop, and step values for the slice operation. It then returns a list of the items in the slice.\n",
    "\n",
    "If the index argument is not a slice object, it simply returns the item at the given index.\n",
    "\n",
    "With this implementation, you can now perform slice operations on instances of the MyList class:"
   ]
  },
  {
   "cell_type": "code",
   "execution_count": 4,
   "id": "76b44549",
   "metadata": {},
   "outputs": [
    {
     "data": {
      "text/plain": [
       "[1, 3, 5]"
      ]
     },
     "execution_count": 4,
     "metadata": {},
     "output_type": "execute_result"
    }
   ],
   "source": [
    ">>> my_list = MyList(1, 2, 3, 4, 5)\n",
    ">>> my_list[1:4]\n",
    "[2, 3, 4]\n",
    ">>> my_list[::2]\n",
    "[1, 3, 5]\n"
   ]
  },
  {
   "cell_type": "markdown",
   "id": "f447bf27",
   "metadata": {},
   "source": [
    "## Q4. In a class, how do you capture in-place addition?"
   ]
  },
  {
   "cell_type": "markdown",
   "id": "68f467ed",
   "metadata": {},
   "source": [
    "In Python, you can capture in-place addition (e.g., +=) in a class by implementing the __iadd__() method.\n",
    "\n",
    "The __iadd__() method is used to define the behavior of the class when an object is added to it in-place using the += operator. It takes one argument, which is the object being added to the class.\n",
    "\n",
    "Here's an example of how you can capture in-place addition in a class:"
   ]
  },
  {
   "cell_type": "code",
   "execution_count": 5,
   "id": "3d18f6b6",
   "metadata": {},
   "outputs": [],
   "source": [
    "class MyNumber:\n",
    "    def __init__(self, value):\n",
    "        self.value = value\n",
    "\n",
    "    def __iadd__(self, other):\n",
    "        if isinstance(other, MyNumber):\n",
    "            self.value += other.value\n",
    "        else:\n",
    "            self.value += other\n",
    "        return self\n"
   ]
  },
  {
   "cell_type": "markdown",
   "id": "654bc34f",
   "metadata": {},
   "source": [
    "In the above example, the MyNumber class implements the __iadd__() method to capture in-place addition. It first checks if the other argument is an instance of the MyNumber class. If it is, it adds the value of the other object to the value of the current object. If it's not an instance of the MyNumber class, it assumes that it's a numeric value and adds it directly to the value of the current object.\n",
    "\n",
    "The __iadd__() method then returns self to allow for chaining of in-place addition operations.\n",
    "\n",
    "With this implementation, you can now perform in-place addition on instances of the MyNumber class:"
   ]
  },
  {
   "cell_type": "code",
   "execution_count": 6,
   "id": "f65fac11",
   "metadata": {},
   "outputs": [
    {
     "data": {
      "text/plain": [
       "10"
      ]
     },
     "execution_count": 6,
     "metadata": {},
     "output_type": "execute_result"
    }
   ],
   "source": [
    ">>> num = MyNumber(5)\n",
    ">>> num += 2\n",
    ">>> num.value\n",
    "7\n",
    ">>> num += MyNumber(3)\n",
    ">>> num.value\n",
    "10\n"
   ]
  },
  {
   "cell_type": "markdown",
   "id": "f721d80b",
   "metadata": {},
   "source": [
    "## Q5. When is it appropriate to use operator overloading?"
   ]
  },
  {
   "cell_type": "markdown",
   "id": "f1a75c49",
   "metadata": {},
   "source": [
    "Operator overloading is appropriate when you want to define custom behavior for operators (+, -, *, /, etc.) on your own classes. It allows you to make your code more concise, readable, and intuitive by defining the expected behavior of operators on your own objects.\n",
    "\n",
    "Here are some examples of when operator overloading is appropriate:\n",
    "\n",
    "Mathematical operations: If you are working with mathematical objects like vectors, matrices, or complex numbers, you may want to overload the mathematical operators to perform arithmetic operations on them.\n",
    "\n",
    "String operations: If you are working with custom string objects, you may want to overload the string concatenation operator (+) to concatenate your objects.\n",
    "\n",
    "Container operations: If you are working with custom container objects like lists, sets, or dictionaries, you may want to overload the indexing operator ([]) or the membership operator (in) to allow for indexing or membership testing on your objects.\n",
    "\n",
    "Comparison operations: If you are working with custom objects that can be compared, you may want to overload the comparison operators (==, !=, <, >, <=, >=) to define the expected behavior of comparison operations on your objects.\n",
    "\n",
    "In general, operator overloading can be useful when it makes the code more readable and intuitive, and when it provides a natural way to work with your custom objects. However, it should be used with care and only when it makes sense in the context of your application. Overloading operators inappropriately can lead to confusion and errors in your code."
   ]
  },
  {
   "cell_type": "code",
   "execution_count": null,
   "id": "1750aa7d",
   "metadata": {},
   "outputs": [],
   "source": []
  }
 ],
 "metadata": {
  "kernelspec": {
   "display_name": "Python 3 (ipykernel)",
   "language": "python",
   "name": "python3"
  },
  "language_info": {
   "codemirror_mode": {
    "name": "ipython",
    "version": 3
   },
   "file_extension": ".py",
   "mimetype": "text/x-python",
   "name": "python",
   "nbconvert_exporter": "python",
   "pygments_lexer": "ipython3",
   "version": "3.10.9"
  }
 },
 "nbformat": 4,
 "nbformat_minor": 5
}
