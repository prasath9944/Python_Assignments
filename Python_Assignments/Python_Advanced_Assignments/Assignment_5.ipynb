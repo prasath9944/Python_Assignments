{
 "cells": [
  {
   "cell_type": "markdown",
   "id": "07fce1bc",
   "metadata": {},
   "source": [
    "## Q1. What is the meaning of multiple inheritance?"
   ]
  },
  {
   "cell_type": "markdown",
   "id": "46237a51",
   "metadata": {},
   "source": [
    "Multiple inheritance is a feature in object-oriented programming where a subclass can inherit from multiple parent classes. In other words, a subclass can have multiple direct superclasses.\n",
    "\n",
    "For example, consider a scenario where you have two classes ClassA and ClassB:"
   ]
  },
  {
   "cell_type": "code",
   "execution_count": 1,
   "id": "ce4c55ef",
   "metadata": {},
   "outputs": [],
   "source": [
    "class ClassA:\n",
    "    def method_a(self):\n",
    "        print(\"Method A\")\n",
    "\n",
    "class ClassB:\n",
    "    def method_b(self):\n",
    "        print(\"Method B\")\n"
   ]
  },
  {
   "cell_type": "markdown",
   "id": "4d8866bd",
   "metadata": {},
   "source": [
    "You can create a new class ClassC that inherits from both ClassA and ClassB using multiple inheritance:\n",
    "\n"
   ]
  },
  {
   "cell_type": "code",
   "execution_count": 2,
   "id": "ff9e6d44",
   "metadata": {},
   "outputs": [],
   "source": [
    "class ClassC(ClassA, ClassB):\n",
    "    def method_c(self):\n",
    "        print(\"Method C\")\n"
   ]
  },
  {
   "cell_type": "markdown",
   "id": "0e2e2c39",
   "metadata": {},
   "source": [
    "In this example, ClassC is a subclass of both ClassA and ClassB. It can use the methods and attributes defined in both parent classes:"
   ]
  },
  {
   "cell_type": "code",
   "execution_count": null,
   "id": "e754bfae",
   "metadata": {},
   "outputs": [],
   "source": [
    ">>> c = ClassC()\n",
    ">>> c.method_a()\n",
    "Method A\n",
    ">>> c.method_b()\n",
    "Method B\n",
    ">>> c.method_c()\n",
    "Method C\n"
   ]
  },
  {
   "cell_type": "markdown",
   "id": "f1ff78d4",
   "metadata": {},
   "source": [
    "Multiple inheritance can be useful in situations where you want to create a class that combines the functionality of multiple parent classes. However, it can also make the code more complex and harder to maintain, especially if there are conflicts between the methods or attributes of the parent classes. Therefore, it should be used with care and only when it provides a natural and intuitive way to model your data and behavior."
   ]
  },
  {
   "cell_type": "markdown",
   "id": "87b996f3",
   "metadata": {},
   "source": [
    "## Q2. What is the concept of delegation?"
   ]
  },
  {
   "cell_type": "markdown",
   "id": "3e826776",
   "metadata": {},
   "source": [
    "Delegation is a programming pattern where an object passes on a responsibility to another object instead of handling it itself. In delegation, a class delegates some of its responsibilities to another object or class, which is referred to as the delegate.\n",
    "\n",
    "The delegate object is responsible for handling the delegated task and returning the result to the delegating object. This allows for the separation of concerns and promotes code reusability by allowing the delegate object to be used in multiple contexts.\n",
    "\n",
    "For example, consider a scenario where you have a class Player that needs to perform a task of moving on the game board. Instead of implementing the move method in the Player class, you can delegate the task to another class, such as GameBoard, using delegation:"
   ]
  },
  {
   "cell_type": "code",
   "execution_count": 4,
   "id": "15914cea",
   "metadata": {},
   "outputs": [],
   "source": [
    "class GameBoard:\n",
    "    def move_player(self, player, distance):\n",
    "        # perform move logic here\n",
    "        print(f\"{player} moved {distance} spaces on the game board.\")\n",
    "\n",
    "class Player:\n",
    "    def __init__(self, name):\n",
    "        self.name = name\n",
    "        self.game_board = GameBoard()\n",
    "\n",
    "    def move(self, distance):\n",
    "        self.game_board.move_player(self.name, distance)\n"
   ]
  },
  {
   "cell_type": "markdown",
   "id": "194d39ff",
   "metadata": {},
   "source": [
    "In this example, the Player class delegates the responsibility of moving the player to the GameBoard class using the move_player() method. The Player class initializes a GameBoard object in its constructor and calls its move_player() method in its own move() method, passing the player's name and distance to move as arguments.\n",
    "\n",
    "By using delegation, the Player class can focus on its own responsibilities, such as tracking the player's name, while the GameBoard class can focus on the game logic of moving the player on the board. Additionally, the GameBoard class can be reused in other contexts where moving objects on a board is required."
   ]
  },
  {
   "cell_type": "markdown",
   "id": "916a35f8",
   "metadata": {},
   "source": [
    "## Q3. What is the concept of composition?"
   ]
  },
  {
   "cell_type": "markdown",
   "id": "0ee3f2f5",
   "metadata": {},
   "source": [
    "Composition is a programming pattern in which a class contains one or more objects of other classes as its instance variables. In other words, a class is composed of other objects. Composition is a way to achieve code reuse and modularity, by building complex objects from simpler objects.\n",
    "\n",
    "In composition, the contained objects are not subclasses or inherit from the containing class. Instead, they are independent objects that are instantiated and used by the containing class. The containing class may provide a higher-level interface that uses the functionality of the contained objects to achieve its own behavior.\n",
    "\n",
    "For example, consider a scenario where you have a class Car that is composed of other classes such as Engine, Transmission, and Wheels:"
   ]
  },
  {
   "cell_type": "code",
   "execution_count": 5,
   "id": "b1fc84b1",
   "metadata": {},
   "outputs": [],
   "source": [
    "class Engine:\n",
    "    def start(self):\n",
    "        print(\"Engine started\")\n",
    "\n",
    "class Transmission:\n",
    "    def shift(self, gear):\n",
    "        print(f\"Shifted to gear {gear}\")\n",
    "\n",
    "class Wheels:\n",
    "    def rotate(self, direction):\n",
    "        print(f\"Rotated wheels {direction}\")\n",
    "\n",
    "class Car:\n",
    "    def __init__(self):\n",
    "        self.engine = Engine()\n",
    "        self.transmission = Transmission()\n",
    "        self.wheels = Wheels()\n",
    "\n",
    "    def start(self):\n",
    "        self.engine.start()\n",
    "\n",
    "    def shift(self, gear):\n",
    "        self.transmission.shift(gear)\n",
    "\n",
    "    def move(self, direction):\n",
    "        self.wheels.rotate(direction)\n"
   ]
  },
  {
   "cell_type": "markdown",
   "id": "f1734924",
   "metadata": {},
   "source": [
    "In this example, the Car class is composed of Engine, Transmission, and Wheels objects. It has methods such as start(), shift(), and move() that use the functionality of the contained objects to achieve the behavior of the Car.\n",
    "\n",
    "By using composition, the Car class can be easily modified by changing or replacing the contained objects, such as by using a different type of engine or transmission. Additionally, the contained objects can be reused in other contexts, such as using the Engine class in a different type of vehicle.\n",
    "\n",
    "Composition is a powerful tool for building complex systems from simpler components, and it promotes code reuse and modularity. However, it can also lead to increased complexity and overhead, especially if the contained objects have complex relationships or dependencies. Therefore, it should be used judiciously and with a clear understanding of the design goals and trade-offs."
   ]
  },
  {
   "cell_type": "markdown",
   "id": "ce3ecdb1",
   "metadata": {},
   "source": [
    "## Q4. What are bound methods and how do we use them?"
   ]
  },
  {
   "cell_type": "markdown",
   "id": "55ec357a",
   "metadata": {},
   "source": [
    "In Python, a bound method is a method that is bound to an instance of a class. When a method is called on an instance of a class, the instance is automatically passed as the first argument to the method, which is called a self-reference. The method is then bound to the instance, and can access the instance's attributes and methods.\n",
    "\n",
    "Bound methods are commonly used in object-oriented programming to implement the behavior of objects. They allow instances of a class to have their own behavior and state, and to interact with each other and with the outside world.\n",
    "\n",
    "To use a bound method, you first need to create an instance of the class that defines the method. You can then call the method on the instance using the dot notation, like so:"
   ]
  },
  {
   "cell_type": "code",
   "execution_count": 6,
   "id": "a81d48d7",
   "metadata": {},
   "outputs": [
    {
     "name": "stdout",
     "output_type": "stream",
     "text": [
      "MyClass instance with arg hello\n"
     ]
    }
   ],
   "source": [
    "class MyClass:\n",
    "    def my_method(self, arg):\n",
    "        print(f\"MyClass instance with arg {arg}\")\n",
    "\n",
    "obj = MyClass()  # Create an instance of the class\n",
    "obj.my_method(\"hello\")  # Call the method on the instance\n"
   ]
  },
  {
   "cell_type": "markdown",
   "id": "800c61b5",
   "metadata": {},
   "source": [
    "In this example, obj is an instance of the MyClass class. When we call obj.my_method(\"hello\"), Python automatically passes obj as the first argument to the my_method method, which is then bound to obj. The method then prints MyClass instance with arg hello.\n",
    "\n",
    "Bound methods can also be passed as arguments to other functions, and can be stored as variables or attributes. This allows for powerful and flexible programming patterns, such as callbacks, event handlers, and decorators."
   ]
  },
  {
   "cell_type": "markdown",
   "id": "810304e4",
   "metadata": {},
   "source": [
    "## Q5. What is the purpose of pseudoprivate attributes?"
   ]
  },
  {
   "cell_type": "markdown",
   "id": "9dd4c2e7",
   "metadata": {},
   "source": [
    "In Python, pseudoprivate attributes are attributes that are named with two leading underscores and one trailing underscore, like __attr__. These attributes are also called name mangling attributes because their names are automatically \"mangled\" by Python to prevent accidental or intentional access from outside the class.\n",
    "\n",
    "The purpose of pseudoprivate attributes is to provide a way for classes to define attributes that are intended to be private, but can still be accessed by subclasses or by methods of the class. Pseudoprivate attributes are not truly private in the sense that they can still be accessed from outside the class by using the mangled name, but the name mangling mechanism makes it less likely for this to happen accidentally.\n",
    "\n",
    "For example, consider the following class:"
   ]
  },
  {
   "cell_type": "code",
   "execution_count": 7,
   "id": "710db654",
   "metadata": {},
   "outputs": [
    {
     "name": "stdout",
     "output_type": "stream",
     "text": [
      "semi-private\n",
      "private\n"
     ]
    }
   ],
   "source": [
    "class MyClass:\n",
    "    def __init__(self):\n",
    "        self.__private_attr = \"private\"\n",
    "        self.__semi_private_attr__ = \"semi-private\"\n",
    "\n",
    "obj = MyClass()\n",
    "print(obj.__semi_private_attr__)  # \"semi-private\"\n",
    "print(obj._MyClass__private_attr)  # \"private\"\n"
   ]
  },
  {
   "cell_type": "markdown",
   "id": "dcccaa43",
   "metadata": {},
   "source": [
    "In this example, the MyClass class defines two attributes: __private_attr and __semi_private_attr__. __private_attr is a pseudoprivate attribute that is intended to be private to the class, while __semi_private_attr__ is a pseudoprivate attribute that is intended to be semi-private, meaning that it can be accessed from outside the class but should be treated as private.\n",
    "\n",
    "When we create an instance of MyClass, we can access __semi_private_attr__ directly, but we cannot access __private_attr using its original name. Instead, we have to use the mangled name _MyClass__private_attr, which makes it less likely for other code to accidentally access or modify the attribute.\n",
    "\n",
    "Pseudoprivate attributes are useful for implementing encapsulation and information hiding in Python classes. They allow classes to define private or semi-private attributes that are not directly accessible from outside the class, but can still be accessed by subclasses or by methods of the class. However, they should be used judiciously, as name mangling can make code harder to read and maintain, and can be circumvented by determined users."
   ]
  },
  {
   "cell_type": "code",
   "execution_count": null,
   "id": "6dd5301e",
   "metadata": {},
   "outputs": [],
   "source": []
  }
 ],
 "metadata": {
  "kernelspec": {
   "display_name": "Python 3 (ipykernel)",
   "language": "python",
   "name": "python3"
  },
  "language_info": {
   "codemirror_mode": {
    "name": "ipython",
    "version": 3
   },
   "file_extension": ".py",
   "mimetype": "text/x-python",
   "name": "python",
   "nbconvert_exporter": "python",
   "pygments_lexer": "ipython3",
   "version": "3.10.9"
  }
 },
 "nbformat": 4,
 "nbformat_minor": 5
}
