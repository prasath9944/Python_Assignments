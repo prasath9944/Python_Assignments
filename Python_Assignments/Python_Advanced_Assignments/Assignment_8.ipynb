{
 "cells": [
  {
   "cell_type": "markdown",
   "id": "5417828c",
   "metadata": {},
   "source": [
    "## Q1. What are the two latest user-defined exception constraints in Python 3.X?"
   ]
  },
  {
   "cell_type": "markdown",
   "id": "b13ec5df",
   "metadata": {},
   "source": [
    "In Python 3.x, the two latest user-defined exception constraints are:\n",
    "\n",
    "__cause__: This attribute is used to specify the cause of an exception. It can be used to provide a more informative error message when one exception is caused by another. The __cause__ attribute is set automatically when using the raise statement with the from keyword to raise a new exception that is caused by another exception.\n",
    "\n",
    "__context__: This attribute is used to specify the context of an exception. It can be used to provide additional information about the exception, such as where it occurred in the code or what other exceptions were raised at the same time. The __context__ attribute is also set automatically when using the raise statement with the from keyword to raise a new exception that is caused by another exception."
   ]
  },
  {
   "cell_type": "markdown",
   "id": "06110fd6",
   "metadata": {},
   "source": [
    "## Q2. How are class-based exceptions that have been raised matched to handlers?\n"
   ]
  },
  {
   "cell_type": "markdown",
   "id": "57b052a2",
   "metadata": {},
   "source": [
    "In Python, when a class-based exception is raised, the interpreter searches for an appropriate exception handler to handle it. The search for an exception handler is done in the following order:\n",
    "\n",
    "The current function or method: The interpreter looks for an except block in the current function or method that matches the raised exception. If a match is found, the block is executed, and the exception is considered handled.\n",
    "\n",
    "The calling function or method: If the interpreter does not find an appropriate except block in the current function or method, it looks in the calling function or method. This process continues up the call stack until an appropriate handler is found.\n",
    "\n",
    "The module level: If no appropriate handler is found in any of the functions or methods on the call stack, the interpreter looks for an except block at the module level. If a match is found, the block is executed, and the exception is considered handled.\n",
    "\n",
    "The built-in exception handlers: If no appropriate handler is found in the module-level except blocks, the interpreter looks for a built-in exception handler. If no handler is found, the interpreter prints a traceback and exits the program.\n",
    "\n",
    "It is also important to note that multiple except blocks can be defined for the same exception, and they will be executed in the order in which they are defined. The first matching block will handle the exception, and subsequent blocks will be skipped.\n",
    "\n",
    "\n",
    "\n",
    "\n",
    "\n",
    "\n"
   ]
  },
  {
   "cell_type": "markdown",
   "id": "1f4c50e8",
   "metadata": {},
   "source": [
    "## Q3. Describe two methods for attaching context information to exception artefacts."
   ]
  },
  {
   "cell_type": "markdown",
   "id": "7497b4c3",
   "metadata": {},
   "source": [
    "In Python, there are several methods for attaching context information to exception artifacts such as the exception object or traceback. Two commonly used methods are:\n",
    "\n",
    "Using the raise ... from ... statement: The raise statement in Python allows you to attach context information to an exception object. The from keyword is used to specify the exception that caused the current exception to be raised. When an exception is raised with the from keyword, the original exception is attached as the __cause__ attribute of the new exception. This allows you to provide additional context information about the error.\n",
    "For example:"
   ]
  },
  {
   "cell_type": "code",
   "execution_count": null,
   "id": "a2c2d790",
   "metadata": {},
   "outputs": [],
   "source": [
    "try:\n",
    "    # some code that may raise an exception\n",
    "except SomeException as e:\n",
    "    raise NewException(\"Something went wrong\") from e\n"
   ]
  },
  {
   "cell_type": "markdown",
   "id": "e3051f00",
   "metadata": {},
   "source": [
    "In the above code, if an exception of type SomeException is raised, a new exception of type NewException is raised with the message \"Something went wrong\", and the original exception is attached as the __cause__ attribute.\n",
    "\n",
    "Using the traceback module: The traceback module in Python provides a way to attach context information to the traceback object associated with an exception. You can use the format_exception function to format a traceback with additional context information, such as the values of variables or the current state of the program.\n",
    "For example:"
   ]
  },
  {
   "cell_type": "code",
   "execution_count": null,
   "id": "32a335b7",
   "metadata": {},
   "outputs": [],
   "source": [
    "import traceback\n",
    "\n",
    "try:\n",
    "    # some code that may raise an exception\n",
    "except SomeException:\n",
    "    tb = traceback.format_exc()\n",
    "    # log the traceback with additional context information\n"
   ]
  },
  {
   "cell_type": "markdown",
   "id": "d0be58b6",
   "metadata": {},
   "source": [
    "In the above code, if an exception of type SomeException is raised, the format_exc() function is called to format the traceback associated with the exception as a string. This string can then be logged or printed with additional context information to help debug the error.\n",
    "\n",
    "\n",
    "\n",
    "\n"
   ]
  },
  {
   "cell_type": "markdown",
   "id": "b3f1f66c",
   "metadata": {},
   "source": [
    "## Q4. Describe two methods for specifying the text of an exception object&#39;s error message."
   ]
  },
  {
   "cell_type": "markdown",
   "id": "9c781d3c",
   "metadata": {},
   "source": [
    "In Python, there are several methods for specifying the text of an exception object's error message. Two commonly used methods are:\n",
    "\n",
    "Passing an error message to the exception constructor: When you create a new exception object, you can pass an error message as an argument to the constructor. This message will be stored as the args attribute of the exception object and can be accessed using the str() built-in function.\n",
    "For example:"
   ]
  },
  {
   "cell_type": "code",
   "execution_count": null,
   "id": "b8bacc35",
   "metadata": {},
   "outputs": [],
   "source": [
    "class MyException(Exception):\n",
    "    pass\n",
    "\n",
    "raise MyException(\"Something went wrong\")\n"
   ]
  },
  {
   "cell_type": "markdown",
   "id": "ed61e95d",
   "metadata": {},
   "source": [
    "In the above code, a new exception object of type MyException is raised with the error message \"Something went wrong\". This message can be accessed using the str() built-in function, which will return the string \"Something went wrong\".\n",
    "\n",
    "Overriding the __str__() method: You can also specify the text of an exception object's error message by overriding the __str__() method in the exception class. This method should return a string that represents the error message.\n",
    "For example:"
   ]
  },
  {
   "cell_type": "code",
   "execution_count": null,
   "id": "4b730c92",
   "metadata": {},
   "outputs": [],
   "source": [
    "class MyException(Exception):\n",
    "    def __str__(self):\n",
    "        return \"Something went wrong\"\n",
    "\n",
    "raise MyException()\n"
   ]
  },
  {
   "cell_type": "markdown",
   "id": "62f262a3",
   "metadata": {},
   "source": [
    "In the above code, a new exception object of type MyException is raised without an error message argument. However, because the __str__() method has been overridden to return the string \"Something went wrong\", this string will be used as the error message for the exception object."
   ]
  },
  {
   "cell_type": "markdown",
   "id": "d7b724c4",
   "metadata": {},
   "source": [
    "## Q5. Why do you no longer use string-based exceptions?"
   ]
  },
  {
   "cell_type": "markdown",
   "id": "a4489395",
   "metadata": {},
   "source": [
    "In Python, it is no longer recommended to use string-based exceptions. Prior to Python 2.5, it was possible to raise an exception by passing a string as the first argument to the raise statement, like so:"
   ]
  },
  {
   "cell_type": "code",
   "execution_count": null,
   "id": "f3faeca2",
   "metadata": {},
   "outputs": [],
   "source": [
    "raise \"Something went wrong\"\n"
   ]
  },
  {
   "cell_type": "markdown",
   "id": "5d0a23fa",
   "metadata": {},
   "source": [
    "However, this approach has been deprecated and should no longer be used for several reasons:\n",
    "\n",
    "Lack of clarity: String-based exceptions do not provide clear and concise information about the type of the exception being raised. This can make it difficult to determine the cause of the exception, especially when dealing with complex programs.\n",
    "\n",
    "Limited functionality: String-based exceptions provide limited functionality when compared to class-based exceptions. Class-based exceptions allow you to define additional attributes and methods on the exception object, which can be useful for providing additional context information or handling the exception in a specific way.\n",
    "\n",
    "Future compatibility: String-based exceptions have been deprecated since Python 2.5 and may be removed in future versions of Python. Therefore, it is recommended to use class-based exceptions to ensure future compatibility.\n",
    "\n",
    "Overall, class-based exceptions provide a more flexible and clearer way to handle errors in Python programs. They allow you to provide additional context information and define custom behavior for handling exceptions, making it easier to debug and maintain your code.\n",
    "\n",
    "\n",
    "\n",
    "\n"
   ]
  }
 ],
 "metadata": {
  "kernelspec": {
   "display_name": "Python 3 (ipykernel)",
   "language": "python",
   "name": "python3"
  },
  "language_info": {
   "codemirror_mode": {
    "name": "ipython",
    "version": 3
   },
   "file_extension": ".py",
   "mimetype": "text/x-python",
   "name": "python",
   "nbconvert_exporter": "python",
   "pygments_lexer": "ipython3",
   "version": "3.10.9"
  }
 },
 "nbformat": 4,
 "nbformat_minor": 5
}
