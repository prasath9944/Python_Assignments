{
 "cells": [
  {
   "cell_type": "markdown",
   "id": "d802411c",
   "metadata": {},
   "source": [
    "## Q1. What is the difference between __getattr__ and __getattribute__?\n"
   ]
  },
  {
   "cell_type": "markdown",
   "id": "a75916a4",
   "metadata": {},
   "source": [
    "In Python, both __getattr__ and __getattribute__ are methods that are called when an attribute is accessed on an object. However, there are some key differences between the two methods:\n",
    "\n",
    "__getattr__(self, name) is called when an attribute is not found through the normal lookup process. This happens when the attribute is not an instance variable, not in the class tree, and not a special attribute (like __class__ or __doc__). In other words, __getattr__ is a fallback method that is only called when an attribute is not found by any other means.\n",
    "\n",
    "__getattribute__(self, name) is called every time an attribute is accessed on the object, regardless of whether the attribute is an instance variable, a class variable, or a special attribute. This means that __getattribute__ is called even when the attribute exists and has already been looked up.\n",
    "\n",
    "Here's an example that demonstrates the difference between the two methods:"
   ]
  },
  {
   "cell_type": "code",
   "execution_count": 1,
   "id": "c93936fd",
   "metadata": {},
   "outputs": [
    {
     "name": "stdout",
     "output_type": "stream",
     "text": [
      "x accessed\n",
      "x not found\n",
      "y accessed\n",
      "y not found\n"
     ]
    }
   ],
   "source": [
    "class MyClass:\n",
    "    def __getattr__(self, name):\n",
    "        print(f\"{name} not found\")\n",
    "        \n",
    "    def __getattribute__(self, name):\n",
    "        print(f\"{name} accessed\")\n",
    "        return object.__getattribute__(self, name)\n",
    "        \n",
    "my_obj = MyClass()\n",
    "my_obj.x  # calls __getattr__ because x is not found\n",
    "my_obj.y  # calls __getattribute__ because y is a valid attribute\n"
   ]
  },
  {
   "cell_type": "markdown",
   "id": "d38ea7e5",
   "metadata": {},
   "source": [
    "In this example, accessing my_obj.x will call __getattr__ because x is not a valid attribute, while accessing my_obj.y will call __getattribute__ because y is a valid attribute."
   ]
  },
  {
   "cell_type": "markdown",
   "id": "a9585fdc",
   "metadata": {},
   "source": [
    "## Q2. What is the difference between properties and descriptors?"
   ]
  },
  {
   "cell_type": "markdown",
   "id": "7aac69b4",
   "metadata": {},
   "source": [
    "Both properties and descriptors are features in Python that allow you to control access to object attributes. However, there are some key differences between the two:\n",
    "\n",
    "Properties are defined at the class level, while descriptors are defined as separate classes. Properties use the @property decorator to define getter methods and optional @propertyname.setter decorators to define setter methods. Descriptors define __get__, __set__, and __delete__ methods that control access to the attribute.\n",
    "\n",
    "Properties can only control access to instance variables, while descriptors can control access to both instance variables and class variables.\n",
    "\n",
    "Properties are simpler to use than descriptors, but they are less flexible. Properties can only control access to a single attribute, while descriptors can control access to multiple attributes at once.\n",
    "\n",
    "Here's an example that demonstrates the difference between the two:"
   ]
  },
  {
   "cell_type": "code",
   "execution_count": 2,
   "id": "d88e76da",
   "metadata": {},
   "outputs": [
    {
     "name": "stdout",
     "output_type": "stream",
     "text": [
      "1\n",
      "1\n"
     ]
    }
   ],
   "source": [
    "class MyClass:\n",
    "    def __init__(self):\n",
    "        self._x = 0\n",
    "        \n",
    "    @property\n",
    "    def x(self):\n",
    "        return self._x\n",
    "    \n",
    "    @x.setter\n",
    "    def x(self, value):\n",
    "        if value < 0:\n",
    "            raise ValueError(\"x cannot be negative\")\n",
    "        self._x = value\n",
    "\n",
    "class PositiveNumber:\n",
    "    def __get__(self, instance, owner):\n",
    "        return instance.__dict__[self.name]\n",
    "    \n",
    "    def __set__(self, instance, value):\n",
    "        if value < 0:\n",
    "            raise ValueError(\"Value cannot be negative\")\n",
    "        instance.__dict__[self.name] = value\n",
    "    \n",
    "    def __set_name__(self, owner, name):\n",
    "        self.name = name\n",
    "\n",
    "class MyClassWithDescriptor:\n",
    "    x = PositiveNumber()\n",
    "\n",
    "my_obj = MyClass()\n",
    "my_obj.x = 1  # calls property setter\n",
    "print(my_obj.x)  # calls property getter\n",
    "\n",
    "my_obj2 = MyClassWithDescriptor()\n",
    "my_obj2.x = 1  # calls descriptor __set__ method\n",
    "print(my_obj2.x)  # calls descriptor __get__ method\n"
   ]
  },
  {
   "cell_type": "markdown",
   "id": "09b6f557",
   "metadata": {},
   "source": [
    "In this example, both MyClass and MyClassWithDescriptor allow you to control access to the x attribute, but they use different mechanisms to do so. MyClass uses a property to control access to self._x, while MyClassWithDescriptor uses a descriptor to control access to x directly."
   ]
  },
  {
   "cell_type": "markdown",
   "id": "9b878875",
   "metadata": {},
   "source": [
    "## Q3. What are the key differences in functionality between __getattr__ and __getattribute__, as well as properties and descriptors?"
   ]
  },
  {
   "cell_type": "markdown",
   "id": "bd6029de",
   "metadata": {},
   "source": [
    "Here are the key differences in functionality between __getattr__, __getattribute__, properties, and descriptors:\n",
    "\n",
    "__getattr__ and __getattribute__:\n",
    "__getattr__ is called when an attribute is not found through the normal lookup process, while __getattribute__ is called every time an attribute is accessed on the object.\n",
    "__getattr__ can only control access to instance attributes that don't already exist, while __getattribute__ can control access to any attribute, including instance attributes that already exist.\n",
    "__getattr__ can be used as a fallback mechanism to dynamically generate attributes, while __getattribute__ is typically used to add custom behavior to attribute access.\n",
    "Properties and descriptors:\n",
    "Properties are a simpler mechanism for controlling access to attributes than descriptors. They allow you to define a getter method and an optional setter method using the @property and @propertyname.setter decorators.\n",
    "Descriptors are a more powerful mechanism for controlling access to attributes than properties. They allow you to define __get__, __set__, and __delete__ methods that are called when the attribute is accessed, set, or deleted, respectively.\n",
    "Properties can only control access to instance variables, while descriptors can control access to both instance variables and class variables.\n",
    "Here's an example that demonstrates the differences in functionality between these mechanisms:"
   ]
  },
  {
   "cell_type": "code",
   "execution_count": 5,
   "id": "9834b003",
   "metadata": {},
   "outputs": [
    {
     "name": "stdout",
     "output_type": "stream",
     "text": [
      "0\n",
      "1\n",
      "2\n",
      "2\n",
      "1\n"
     ]
    }
   ],
   "source": [
    "class MyClass:\n",
    "    def __init__(self):\n",
    "        self._x = 0\n",
    "        \n",
    "    def __getattr__(self, name):\n",
    "        if name == 'y':\n",
    "            return self._x + 1\n",
    "        else:\n",
    "            raise AttributeError(f\"'{type(self).__name__}' object has no attribute '{name}'\")\n",
    "        \n",
    "    def __getattribute__(self, name):\n",
    "        if name == 'z':\n",
    "            return self._x * 2\n",
    "        else:\n",
    "            return super().__getattribute__(name)\n",
    "        \n",
    "    @property\n",
    "    def x(self):\n",
    "        return self._x\n",
    "    \n",
    "    @x.setter\n",
    "    def x(self, value):\n",
    "        if value < 0:\n",
    "            raise ValueError(\"x cannot be negative\")\n",
    "        self._x = value\n",
    "\n",
    "class PositiveNumber:\n",
    "    def __get__(self, instance, owner):\n",
    "        return instance.__dict__[self.name]\n",
    "    \n",
    "    def __set__(self, instance, value):\n",
    "        if value < 0:\n",
    "            raise ValueError(\"Value cannot be negative\")\n",
    "        instance.__dict__[self.name] = value\n",
    "    \n",
    "    def __set_name__(self, owner, name):\n",
    "        self.name = name\n",
    "\n",
    "class MyClassWithDescriptor:\n",
    "    x = PositiveNumber()\n",
    "\n",
    "my_obj = MyClass()\n",
    "print(my_obj.x)  # calls property getter\n",
    "my_obj.x = 1  # calls property setter\n",
    "print(my_obj.x)  # calls property getter\n",
    "print(my_obj.y)  # calls __getattr__\n",
    "print(my_obj.z)  # calls __getattribute__\n",
    "\n",
    "my_obj2 = MyClassWithDescriptor()\n",
    "my_obj2.x = 1  # calls descriptor __set__ method\n",
    "print(my_obj2.x)  # calls descriptor __get__ method\n"
   ]
  },
  {
   "cell_type": "markdown",
   "id": "bed16c36",
   "metadata": {},
   "source": [
    "In this example, MyClass and MyClassWithDescriptor both allow you to control access to the x attribute, but they use different mechanisms to do so. MyClass uses a property to control access to self._x, while MyClassWithDescriptor uses a descriptor to control access to x directly. MyClass also uses __getattr__ to dynamically generate the y attribute, and __getattribute__ to add custom behavior to the z attribute."
   ]
  }
 ],
 "metadata": {
  "kernelspec": {
   "display_name": "Python 3 (ipykernel)",
   "language": "python",
   "name": "python3"
  },
  "language_info": {
   "codemirror_mode": {
    "name": "ipython",
    "version": 3
   },
   "file_extension": ".py",
   "mimetype": "text/x-python",
   "name": "python",
   "nbconvert_exporter": "python",
   "pygments_lexer": "ipython3",
   "version": "3.10.9"
  }
 },
 "nbformat": 4,
 "nbformat_minor": 5
}
