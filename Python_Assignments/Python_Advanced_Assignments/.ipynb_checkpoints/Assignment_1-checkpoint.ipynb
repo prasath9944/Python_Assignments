{
 "cells": [
  {
   "cell_type": "markdown",
   "id": "78ad0d85",
   "metadata": {},
   "source": [
    "## Q1. What is the purpose of Python&#39;s OOP?"
   ]
  },
  {
   "cell_type": "markdown",
   "id": "b9e52cff",
   "metadata": {},
   "source": [
    "The purpose of Python's Object-Oriented Programming (OOP) is to provide a way to structure code so that it is more modular, reusable, and easier to maintain. OOP is based on the concept of objects, which are instances of classes that encapsulate data and behavior.\n",
    "\n",
    "Using OOP, we can define classes that represent real-world entities or abstract concepts, and then create objects based on these classes. Each object has its own state (data) and behavior (methods), which can interact with other objects in a well-defined manner.\n",
    "\n",
    "OOP provides several benefits over other programming paradigms, such as procedural programming. Some of these benefits include:\n",
    "\n",
    "Modularity: OOP allows us to break down complex systems into smaller, more manageable components (classes and objects), which can be developed and tested independently.\n",
    "\n",
    "Reusability: Objects can be reused in different parts of the code, and classes can be extended or modified without affecting other parts of the code.\n",
    "\n",
    "Encapsulation: OOP allows us to encapsulate data and behavior within objects, so that they are protected from outside interference and only accessible through well-defined interfaces (methods).\n",
    "\n",
    "Inheritance: OOP allows us to define a hierarchy of classes, where subclasses inherit the properties and behavior of their parent classes. This promotes code reuse and makes it easier to maintain and extend large code bases.\n",
    "\n",
    "Polymorphism: OOP allows us to define multiple methods with the same name but different implementations, based on the types of objects they operate on. This makes code more flexible and adaptable to different situations.\n",
    "\n",
    "Overall, OOP is a powerful and flexible programming paradigm that is widely used in Python and other programming languages. It provides a way to write code that is modular, reusable, and easier to maintain, which is especially important for large and complex systems."
   ]
  },
  {
   "cell_type": "markdown",
   "id": "d7361916",
   "metadata": {},
   "source": [
    "## Q2. Where does an inheritance search look for an attribute?"
   ]
  },
  {
   "cell_type": "markdown",
   "id": "aaed53f3",
   "metadata": {},
   "source": [
    "In Python, when an attribute or method is accessed on an object, the interpreter searches for it in the following order:\n",
    "\n",
    "The object itself: If the object has the requested attribute or method, the interpreter returns it immediately and the search stops.\n",
    "The object's class: If the object does not have the requested attribute or method, the interpreter looks in the object's class next. If the class has the attribute or method, the interpreter returns it and the search stops.\n",
    "The class hierarchy: If the object's class does not have the requested attribute or method, the interpreter searches up the class hierarchy (i.e., the parent classes and their parents, recursively), looking for the attribute or method. If it finds it in any of the classes, it returns it and the search stops.\n",
    "Built-in classes: If the interpreter reaches the top of the class hierarchy without finding the requested attribute or method, it looks in the built-in classes next. If it finds it in any of the built-in classes, it returns it and the search stops.\n",
    "AttributeError: If the interpreter reaches the end of the search without finding the requested attribute or method, it raises an AttributeError exception.\n",
    "This search order is known as the Method Resolution Order (MRO), and it is determined by the class hierarchy and the order in which the classes were defined. The MRO can be accessed through the __mro__ attribute of a class or the mro() method."
   ]
  },
  {
   "cell_type": "markdown",
   "id": "2b99598d",
   "metadata": {},
   "source": [
    "## Q3. How do you distinguish between a class object and an instance object?"
   ]
  },
  {
   "cell_type": "markdown",
   "id": "93a25a43",
   "metadata": {},
   "source": [
    "In Python, a class is a blueprint for creating objects, while an instance is a specific object created from a class. Here are the main differences between a class object and an instance object:\n",
    "\n",
    "Definition: A class is defined using the class keyword, followed by a class name and a block of code that defines the class's properties and methods. An instance is created using the class name followed by parentheses, which invoke the class's constructor method to create a new object.\n",
    "\n",
    "Attributes: A class can have class-level attributes that are shared by all instances of the class, as well as instance-level attributes that are specific to each instance. Class-level attributes are defined inside the class block but outside of any method, using the syntax classname.attribute_name = value. Instance-level attributes are defined inside the __init__ method, using the self.attribute_name = value syntax.\n",
    "\n",
    "Methods: A class can have class-level methods that operate on class-level attributes and can be called directly on the class object, as well as instance methods that operate on instance-level attributes and can be called on individual instances. Class-level methods are defined inside the class block but outside of any method, using the @classmethod decorator and the syntax def method_name(cls, ...) where cls refers to the class object. Instance methods are defined inside the class block and take the self parameter as the first argument, which refers to the instance object.\n",
    "\n",
    "Identity: Each class object has a unique identity, which is determined by its memory address. Each instance object also has a unique identity, which is determined by its memory address. Two different instance objects created from the same class will have different identities, even if they have the same attribute values.\n",
    "\n",
    "Here's an example code snippet to illustrate the difference between a class and an instance:"
   ]
  },
  {
   "cell_type": "code",
   "execution_count": 1,
   "id": "8017ef1d",
   "metadata": {},
   "outputs": [],
   "source": [
    "class MyClass:\n",
    "    class_attribute = 0  # class-level attribute\n",
    "\n",
    "    def __init__(self, instance_attribute):\n",
    "        self.instance_attribute = instance_attribute  # instance-level attribute\n",
    "\n",
    "    @classmethod\n",
    "    def class_method(cls):\n",
    "        print(\"This is a class method\")\n",
    "\n",
    "    def instance_method(self):\n",
    "        print(\"This is an instance method\")\n",
    "\n",
    "# Create a class object\n",
    "my_class = MyClass\n",
    "\n",
    "# Create two instance objects\n",
    "instance1 = my_class(\"attribute_value_1\")\n",
    "instance2 = my_class(\"attribute_value_2\")\n"
   ]
  },
  {
   "cell_type": "markdown",
   "id": "50555f2b",
   "metadata": {},
   "source": [
    "In this example, MyClass is a class object that defines a class-level attribute (class_attribute), an instance-level attribute (instance_attribute), a class-level method (class_method), and an instance method (instance_method). my_class is a reference to the class object, while instance1 and instance2 are two instance objects created from the class object. The class object and instance objects have different identities and different attributes and methods, as defined in the class block and constructor method."
   ]
  },
  {
   "cell_type": "markdown",
   "id": "6f219499",
   "metadata": {},
   "source": [
    "## Q4. What makes the first argument in a class’s method function special?"
   ]
  },
  {
   "cell_type": "markdown",
   "id": "3ee7a140",
   "metadata": {},
   "source": [
    "In Python, the first argument in a class's method function is conventionally named self, and it refers to the instance of the class on which the method is being called. This first argument is what makes instance methods work, and it is a fundamental part of the object-oriented programming paradigm.\n",
    "\n",
    "When a method is called on an instance of a class, Python automatically passes the instance object as the first argument to the method. This allows the method to access and modify the instance's attributes, and to operate on the instance in a way that is specific to that instance.\n",
    "\n",
    "For example, let's say we have a Person class that has an instance method greet():"
   ]
  },
  {
   "cell_type": "code",
   "execution_count": 2,
   "id": "20c2e4ab",
   "metadata": {},
   "outputs": [
    {
     "name": "stdout",
     "output_type": "stream",
     "text": [
      "Hello, my name is Alice.\n"
     ]
    }
   ],
   "source": [
    "class Person:\n",
    "    def __init__(self, name):\n",
    "        self.name = name\n",
    "\n",
    "    def greet(self):\n",
    "        print(f\"Hello, my name is {self.name}.\")\n",
    "\n",
    "# Create an instance of the Person class\n",
    "person = Person(\"Alice\")\n",
    "\n",
    "# Call the greet method on the person instance\n",
    "person.greet()\n"
   ]
  },
  {
   "cell_type": "markdown",
   "id": "ff1acff4",
   "metadata": {},
   "source": [
    "In this example, the greet() method takes self as its first argument, which refers to the person instance. Inside the method, we can access the person instance's name attribute using self.name.\n",
    "\n",
    "It's worth noting that self is just a convention, and you can use any valid variable name instead, as long as you're consistent throughout the class. However, using self is recommended to make the code more readable and to follow the convention used by most Python developers."
   ]
  },
  {
   "cell_type": "markdown",
   "id": "09d6471a",
   "metadata": {},
   "source": [
    "## Q5. What is the purpose of the __init__ method?"
   ]
  },
  {
   "cell_type": "markdown",
   "id": "60296d4b",
   "metadata": {},
   "source": [
    "In Python, the __init__ method is a special method that is called when an instance of a class is created. Its purpose is to initialize the instance's attributes with default values or with values passed as arguments during object creation.\n",
    "\n",
    "The __init__ method is sometimes called the constructor method because it is responsible for initializing the object's state. It is always named __init__ and takes at least one argument, which is conventionally named self and refers to the instance being created. The self argument is used to access and modify the instance's attributes.\n",
    "\n",
    "Here's an example of a class with an __init__ method:"
   ]
  },
  {
   "cell_type": "code",
   "execution_count": 3,
   "id": "5323ffb6",
   "metadata": {},
   "outputs": [],
   "source": [
    "class Person:\n",
    "    def __init__(self, name, age):\n",
    "        self.name = name\n",
    "        self.age = age\n"
   ]
  },
  {
   "cell_type": "markdown",
   "id": "d857538b",
   "metadata": {},
   "source": [
    "In this example, the Person class has an __init__ method that takes two arguments (name and age) and initializes the instance's name and age attributes with the corresponding argument values. When an instance of the Person class is created, the __init__ method is called automatically, and the instance's attributes are initialized with the provided argument values:\n",
    "\n"
   ]
  },
  {
   "cell_type": "code",
   "execution_count": 4,
   "id": "08dc133e",
   "metadata": {},
   "outputs": [
    {
     "name": "stdout",
     "output_type": "stream",
     "text": [
      "Alice\n",
      "30\n"
     ]
    }
   ],
   "source": [
    "person = Person(\"Alice\", 30)\n",
    "print(person.name)  # Output: \"Alice\"\n",
    "print(person.age)   # Output: 30\n"
   ]
  },
  {
   "cell_type": "markdown",
   "id": "81f02959",
   "metadata": {},
   "source": [
    "In this example, we create an instance of the Person class with the name attribute set to \"Alice\" and the age attribute set to 30. The __init__ method is called automatically when the instance is created, and it sets the instance's attributes to the provided values.\n",
    "\n",
    "In summary, the __init__ method is used to initialize the instance's attributes with default or provided values when the instance is created. It is a key part of object-oriented programming in Python and is used in most classes to define the object's state."
   ]
  },
  {
   "cell_type": "markdown",
   "id": "fcdc8faf",
   "metadata": {},
   "source": [
    "## Q6. What is the process for creating a class instance?\n"
   ]
  },
  {
   "cell_type": "markdown",
   "id": "0be80b50",
   "metadata": {},
   "source": [
    "To create an instance of a class in Python, you need to follow these steps:\n",
    "\n",
    "Define the class: First, you need to define the class that you want to create an instance of. A class is a blueprint for creating objects, so it defines the attributes and methods that the object will have.\n",
    "\n",
    "Create an instance: To create an instance of the class, you call the class name followed by parentheses, like this: instance = ClassName(). This creates a new object of the class and assigns it to the variable instance.\n",
    "\n",
    "Initialize the instance: If the class has an __init__ method, it will be called automatically when the instance is created. This method is used to initialize the instance's attributes with default or provided values. You can pass arguments to the __init__ method when creating the instance to set its initial state.\n",
    "\n",
    "Here's an example of how to create an instance of a simple class:"
   ]
  },
  {
   "cell_type": "code",
   "execution_count": 7,
   "id": "bf67e8f7",
   "metadata": {},
   "outputs": [],
   "source": [
    "class Person:\n",
    "    def __init__(self, name, age):\n",
    "        self.name = name\n",
    "        self.age = age\n",
    "    def greet(self):\n",
    "        print(f\"Hello, my name is {self.name}.\")\n",
    "\n",
    "person = Person(\"Alice\", 30)\n"
   ]
  },
  {
   "cell_type": "markdown",
   "id": "036cd1d6",
   "metadata": {},
   "source": [
    "In this example, we define a Person class with an __init__ method that takes two arguments (name and age) and initializes the instance's name and age attributes with the corresponding argument values. We then create an instance of the Person class by calling Person(\"Alice\", 30), which creates a new Person object with name set to \"Alice\" and age set to 30.\n",
    "\n",
    "After the instance has been created, you can access its attributes and call its methods using dot notation, like this:"
   ]
  },
  {
   "cell_type": "code",
   "execution_count": 8,
   "id": "dfc84e85",
   "metadata": {},
   "outputs": [
    {
     "name": "stdout",
     "output_type": "stream",
     "text": [
      "Alice\n",
      "30\n",
      "Hello, my name is Alice.\n"
     ]
    }
   ],
   "source": [
    "print(person.name)  # Output: \"Alice\"\n",
    "print(person.age)   # Output: 30\n",
    "\n",
    "person.greet()      # Calls the `greet` method of the `Person` class on the `person` instance\n"
   ]
  },
  {
   "cell_type": "markdown",
   "id": "2d395afe",
   "metadata": {},
   "source": [
    "In summary, creating an instance of a class in Python involves defining the class, creating an instance of the class using the class name and parentheses, and optionally initializing the instance with default or provided values using the __init__ method. Once the instance has been created, you can access its attributes and call its methods using dot notation."
   ]
  },
  {
   "cell_type": "markdown",
   "id": "185e2006",
   "metadata": {},
   "source": [
    "## Q7. What is the process for creating a class?"
   ]
  },
  {
   "cell_type": "markdown",
   "id": "34439659",
   "metadata": {},
   "source": [
    "To create a class in Python, you need to follow these steps:\n",
    "\n",
    "Define the class: First, you need to define the class using the class keyword followed by the class name. Inside the class block, you define the attributes and methods that the class will have.\n",
    "\n",
    "Add attributes: You can define attributes inside the class by assigning values to them. Attributes are variables that store data, and they define the state of the object.\n",
    "\n",
    "Add methods: You can define methods inside the class by writing functions. Methods are functions that operate on the object's data, and they define the behavior of the object.\n",
    "\n",
    "Here's an example of how to create a simple class:"
   ]
  },
  {
   "cell_type": "code",
   "execution_count": 9,
   "id": "70fd9f7b",
   "metadata": {},
   "outputs": [],
   "source": [
    "class Person:\n",
    "    def __init__(self, name, age):\n",
    "        self.name = name\n",
    "        self.age = age\n",
    "\n",
    "    def greet(self):\n",
    "        print(f\"Hello, my name is {self.name} and I'm {self.age} years old.\")\n"
   ]
  },
  {
   "cell_type": "markdown",
   "id": "a19ed70a",
   "metadata": {},
   "source": [
    "In this example, we define a Person class with an __init__ method that takes two arguments (name and age) and initializes the instance's name and age attributes with the corresponding argument values. We also define a greet method that prints a greeting message using the instance's name and age attributes.\n",
    "\n",
    "To create an instance of the Person class, you can call it using the class name and parentheses:"
   ]
  },
  {
   "cell_type": "code",
   "execution_count": 10,
   "id": "bea1b853",
   "metadata": {},
   "outputs": [],
   "source": [
    "person = Person(\"Alice\", 30)\n"
   ]
  },
  {
   "cell_type": "markdown",
   "id": "27ffddee",
   "metadata": {},
   "source": [
    "This creates a new Person object with name set to \"Alice\" and age set to 30.\n",
    "\n",
    "Once the instance has been created, you can access its attributes and call its methods using dot notation:\n",
    "\n"
   ]
  },
  {
   "cell_type": "code",
   "execution_count": 11,
   "id": "5a0cce34",
   "metadata": {},
   "outputs": [
    {
     "name": "stdout",
     "output_type": "stream",
     "text": [
      "Alice\n",
      "30\n",
      "Hello, my name is Alice and I'm 30 years old.\n"
     ]
    }
   ],
   "source": [
    "print(person.name)  # Output: \"Alice\"\n",
    "print(person.age)   # Output: 30\n",
    "\n",
    "person.greet()      # Calls the `greet` method of the `Person` class on the `person` instance\n"
   ]
  },
  {
   "cell_type": "markdown",
   "id": "25d3d4eb",
   "metadata": {},
   "source": [
    "In summary, creating a class in Python involves defining the class using the class keyword, adding attributes by assigning values to them, and adding methods by writing functions. Once the class has been defined, you can create instances of the class by calling it using the class name and parentheses."
   ]
  },
  {
   "cell_type": "markdown",
   "id": "e3fc6cc1",
   "metadata": {},
   "source": [
    "## Q8. How would you define the superclasses of a class?"
   ]
  },
  {
   "cell_type": "markdown",
   "id": "bc07637d",
   "metadata": {},
   "source": [
    "In Python, you can define the superclasses of a class by specifying them in the class definition using parentheses and separating them with commas. For example, to define a class Child that inherits from two superclasses Parent1 and Parent2, you would write:"
   ]
  },
  {
   "cell_type": "code",
   "execution_count": 17,
   "id": "ed543715",
   "metadata": {},
   "outputs": [],
   "source": [
    "class Parent1:\n",
    "    pass\n",
    "\n",
    "class Parent2:\n",
    "    pass\n",
    "\n",
    "class Child(Parent1, Parent2):\n",
    "    pass\n"
   ]
  },
  {
   "cell_type": "markdown",
   "id": "97fb2ab7",
   "metadata": {},
   "source": [
    "In this example, the Child class inherits from both Parent1 and Parent2, and can use any attributes or methods defined in either superclass. If both superclasses define a method with the same name, the method in the leftmost superclass specified in the class definition takes precedence.\n",
    "\n",
    "You can also use the super() function to call methods from a superclass. This is useful when you want to override a method in a subclass but still want to call the original method from the superclass. For example:"
   ]
  },
  {
   "cell_type": "code",
   "execution_count": 14,
   "id": "56ef08b2",
   "metadata": {},
   "outputs": [],
   "source": [
    "class Parent:\n",
    "    def greet(self):\n",
    "        print(\"Hello from Parent\")\n",
    "\n",
    "class Child(Parent):\n",
    "    def greet(self):\n",
    "        super().greet()\n",
    "        print(\"Hello from Child\")\n"
   ]
  },
  {
   "cell_type": "markdown",
   "id": "0fd87bdc",
   "metadata": {},
   "source": [
    "In this example, the Child class overrides the greet() method defined in Parent, but still calls the original greet() method from the Parent class using super().greet(). This produces the output:"
   ]
  },
  {
   "cell_type": "markdown",
   "id": "12bc1668",
   "metadata": {},
   "source": [
    "In summary, you can define the superclasses of a class by specifying them in the class definition using parentheses and separating them with commas. You can use the super() function to call methods from a superclass."
   ]
  }
 ],
 "metadata": {
  "kernelspec": {
   "display_name": "Python 3 (ipykernel)",
   "language": "python",
   "name": "python3"
  },
  "language_info": {
   "codemirror_mode": {
    "name": "ipython",
    "version": 3
   },
   "file_extension": ".py",
   "mimetype": "text/x-python",
   "name": "python",
   "nbconvert_exporter": "python",
   "pygments_lexer": "ipython3",
   "version": "3.10.9"
  }
 },
 "nbformat": 4,
 "nbformat_minor": 5
}
